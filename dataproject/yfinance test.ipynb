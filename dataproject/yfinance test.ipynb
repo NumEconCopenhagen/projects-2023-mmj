{
 "cells": [
  {
   "cell_type": "code",
   "execution_count": 1,
   "metadata": {},
   "outputs": [],
   "source": [
    "import pandas as pd\n",
    "import numpy as np\n",
    "import matplotlib.pyplot as plt\n",
    "import ipywidgets as widgets\n",
    "import matplotlib.dates as mdates"
   ]
  },
  {
   "cell_type": "code",
   "execution_count": 12,
   "metadata": {},
   "outputs": [
    {
     "name": "stdout",
     "output_type": "stream",
     "text": [
      "Collecting data for CARL-B.CO...\n",
      "[*********************100%***********************]  1 of 1 completed\n",
      "Data collected for CARL-B.CO\n",
      "Collecting data for CHR.CO...\n",
      "[*********************100%***********************]  1 of 1 completed\n",
      "Data collected for CHR.CO\n",
      "Collecting data for COLO-B.CO...\n",
      "[*********************100%***********************]  1 of 1 completed\n",
      "Data collected for COLO-B.CO\n",
      "Collecting data for DANSKE.CO...\n",
      "[*********************100%***********************]  1 of 1 completed\n",
      "Data collected for DANSKE.CO\n",
      "Collecting data for DSV.CO...\n",
      "[*********************100%***********************]  1 of 1 completed\n",
      "Data collected for DSV.CO\n",
      "Collecting data for MAERSK-B.CO...\n",
      "[*********************100%***********************]  1 of 1 completed\n",
      "Data collected for MAERSK-B.CO\n",
      "Collecting data for NDA-DK.CO...\n",
      "[*********************100%***********************]  1 of 1 completed\n",
      "Data collected for NDA-DK.CO\n",
      "Collecting data for NOVO-B.CO...\n",
      "[*********************100%***********************]  1 of 1 completed\n",
      "Data collected for NOVO-B.CO\n",
      "Collecting data for GN.CO...\n",
      "[*********************100%***********************]  1 of 1 completed\n",
      "Data collected for GN.CO\n",
      "Collecting data for ORSTED.CO...\n",
      "[*********************100%***********************]  1 of 1 completed\n",
      "Data collected for ORSTED.CO\n",
      "Collecting data for PNDORA.CO...\n",
      "[*********************100%***********************]  1 of 1 completed\n",
      "Data collected for PNDORA.CO\n",
      "Collecting data for RBREW.CO...\n",
      "[*********************100%***********************]  1 of 1 completed\n",
      "Data collected for RBREW.CO\n",
      "Collecting data for TRYG.CO...\n",
      "[*********************100%***********************]  1 of 1 completed\n",
      "Data collected for TRYG.CO\n",
      "Collecting data for VWS.CO...\n",
      "[*********************100%***********************]  1 of 1 completed\n",
      "Data collected for VWS.CO\n",
      "Collecting data for DEMANT.CO...\n",
      "[*********************100%***********************]  1 of 1 completed\n",
      "Data collected for DEMANT.CO\n",
      "Collecting data for ROCK-B.CO...\n",
      "[*********************100%***********************]  1 of 1 completed\n",
      "Data collected for ROCK-B.CO\n",
      "Collecting data for JYSK.CO...\n",
      "[*********************100%***********************]  1 of 1 completed\n",
      "Data collected for JYSK.CO\n",
      "Data collection and plotting complete.\n"
     ]
    }
   ],
   "source": [
    "import yfinance as yf\n",
    "import pandas as pd\n",
    "import matplotlib.pyplot as plt\n",
    "from datetime import datetime, timedelta\n",
    "import os\n",
    "\n",
    "# Define the list of company symbols in the Danish C25 index\n",
    "c25_companies = [\n",
    "    'CARL-B.CO', 'CHR.CO', 'COLO-B.CO', 'DANSKE.CO', 'DSV.CO',\n",
    "    'MAERSK-B.CO', 'NDA-DK.CO', 'NOVO-B.CO', 'GN.CO',\n",
    "    'ORSTED.CO', 'PNDORA.CO', 'RBREW.CO', 'TRYG.CO',\n",
    "    'VWS.CO', 'DEMANT.CO', 'ROCK-B.CO', 'JYSK.CO', \n",
    "]\n",
    "\n",
    "# Set the start and end dates for the data collection\n",
    "end_date = datetime.today().strftime('%Y-%m-%d')\n",
    "start_date = (datetime.today() - timedelta(days=5 * 365)).strftime('%Y-%m-%d')\n",
    "\n",
    "# Create a directory to store the data\n",
    "output_dir = 'c25_stock_data'\n",
    "os.makedirs(output_dir, exist_ok=True)\n",
    "\n",
    "# Collect stock data for each company\n",
    "data_collection = {}\n",
    "\n",
    "for symbol in c25_companies:\n",
    "    print(f\"Collecting data for {symbol}...\")\n",
    "    try:\n",
    "        # Retrieve the stock data\n",
    "        data = yf.download(symbol, start=start_date, end=end_date, interval='1mo')\n",
    "\n",
    "        # Save the data to a CSV file\n",
    "        filename = f\"{output_dir}/{symbol}.csv\"\n",
    "        data.to_csv(filename)\n",
    "\n",
    "        # Store the data for later use\n",
    "        data_collection[symbol] = data\n",
    "\n",
    "        print(f\"Data collected for {symbol}\")\n",
    "    except Exception as e:\n",
    "        print(f\"Error collecting data for {symbol}: {e}\")\n",
    "print(\"Data collection and plotting complete.\")\n"
   ]
  }
 ],
 "metadata": {
  "kernelspec": {
   "display_name": "base",
   "language": "python",
   "name": "python3"
  },
  "language_info": {
   "codemirror_mode": {
    "name": "ipython",
    "version": 3
   },
   "file_extension": ".py",
   "mimetype": "text/x-python",
   "name": "python",
   "nbconvert_exporter": "python",
   "pygments_lexer": "ipython3",
   "version": "3.9.13"
  },
  "orig_nbformat": 4,
  "vscode": {
   "interpreter": {
    "hash": "3a51ff870275167439250c661bd9e1549ea6d98969bbf5f9ab16d16cab496595"
   }
  }
 },
 "nbformat": 4,
 "nbformat_minor": 2
}
