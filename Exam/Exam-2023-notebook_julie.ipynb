{
 "cells": [
  {
   "attachments": {},
   "cell_type": "markdown",
   "metadata": {},
   "source": [
    "**Table of contents**<a id='toc0_'></a>    \n",
    "- 1. [Problem 1: Optimal taxation with government consumption](#toc1_)    \n",
    "- 2. [Problem 2: Labor adjustment costs](#toc2_)    \n",
    "- 3. [Problem 3: Global optimizer with refined multi-start](#toc3_)    \n",
    "\n",
    "<!-- vscode-jupyter-toc-config\n",
    "\tnumbering=true\n",
    "\tanchor=true\n",
    "\tflat=false\n",
    "\tminLevel=2\n",
    "\tmaxLevel=6\n",
    "\t/vscode-jupyter-toc-config -->\n",
    "<!-- THIS CELL WILL BE REPLACED ON TOC UPDATE. DO NOT WRITE YOUR TEXT IN THIS CELL -->"
   ]
  },
  {
   "cell_type": "code",
   "execution_count": 60,
   "metadata": {},
   "outputs": [
    {
     "name": "stdout",
     "output_type": "stream",
     "text": [
      "The autoreload extension is already loaded. To reload it, use:\n",
      "  %reload_ext autoreload\n"
     ]
    }
   ],
   "source": [
    "import numpy as np\n",
    "import pandas as pd\n",
    "import datetime as dt\n",
    "import math\n",
    "import ipywidgets as widgets\n",
    "from types import SimpleNamespace\n",
    "from copy import copy\n",
    "%load_ext autoreload\n",
    "%autoreload 2\n",
    "\n",
    "%matplotlib inline\n",
    "import matplotlib.pyplot as plt\n",
    "from scipy import interpolate"
   ]
  },
  {
   "attachments": {},
   "cell_type": "markdown",
   "metadata": {},
   "source": [
    "## 1. <a id='toc1_'></a>[Problem 1: Optimal taxation with government consumption](#toc0_)"
   ]
  },
  {
   "attachments": {},
   "cell_type": "markdown",
   "metadata": {},
   "source": [
    "\n",
    "Consider a worker choosing hours of labor, $L\\in[0,24]$, to maximize utility: \n",
    "\n",
    "$$\n",
    "\\begin{align*}\n",
    "V(w,\\tau,G)&=\\max_{L\\in[0,24]}\\ln\\left(C^{\\alpha}G^{1-\\alpha}\\right)-\\nu\\frac{L^{2}}{2}\\\\&\\text{s.t.}\\\\&C=\\kappa+(1-\\tau)wL\n",
    "\\end{align*}\n",
    "$$\n",
    "\n",
    "where \n",
    "\n",
    "* $C$ is *private* consumption with weight $\\alpha\\in(0,1)$.\n",
    "* $\\kappa > 0$ is the *free private* consumption component.\n",
    "* $C = (1-\\tau)wL$ is the *costly private* consumption component.\n",
    "* $w > 0 $ is the real wage.\n",
    "* $\\tau \\in (0,1)$ is the labor-income tax rate.\n",
    "* $G > 0 $ is *government* consumption with weight $1-\\alpha$.\n",
    "* $\\nu > 0$ is the disutility of labor scaling factor"
   ]
  },
  {
   "attachments": {},
   "cell_type": "markdown",
   "metadata": {},
   "source": [
    "\n",
    "The baseline parameters are:\n",
    "\n",
    "$$\n",
    "\\begin{align*}\n",
    "\\alpha &= 0.5\\\\\n",
    "\\kappa &= 1.0\\\\\n",
    "\\nu &= \\frac{1}{2\\cdot16^2} \\\\\n",
    "w &= 1.0 \\\\ \n",
    "\\tau &= 0.30 \\\\\n",
    "\\end{align*}\n",
    "$$"
   ]
  },
  {
   "attachments": {},
   "cell_type": "markdown",
   "metadata": {},
   "source": [
    "**Question 1:** Verify that the optimal labor supply choice is $L^{\\star}(\\tilde{w}) =\\frac{-\\kappa+\\sqrt{\\kappa^{2}+4\\frac{\\alpha}{\\nu}\\tilde{w}^2}}{2\\tilde{w}}$, where $\\tilde{w} = (1-\\tau)w$, for $G\\in\\left\\{1.0 , 2.0\\right\\}$."
   ]
  },
  {
   "cell_type": "code",
   "execution_count": 61,
   "metadata": {},
   "outputs": [],
   "source": [
    "# write your code here"
   ]
  },
  {
   "attachments": {},
   "cell_type": "markdown",
   "metadata": {},
   "source": [
    "**Question 2:** Illustrate how $L^{\\star}(\\tilde{w})$ depends on $w$."
   ]
  },
  {
   "cell_type": "code",
   "execution_count": 62,
   "metadata": {},
   "outputs": [],
   "source": [
    "# write your code here"
   ]
  },
  {
   "attachments": {},
   "cell_type": "markdown",
   "metadata": {},
   "source": [
    "\n",
    "We now consider a government, who chooses $\\tau$ and spend all of the taxes on government consumption so:\n",
    "\n",
    "$$\n",
    "G = \\tau w L^{\\star}((1-\\tau)w)\n",
    "$$\n",
    "\n",
    "**Question 3:** Plot the implied $L$, $G$ and worker utility for a grid of $\\tau$-values.\n"
   ]
  },
  {
   "cell_type": "code",
   "execution_count": 63,
   "metadata": {},
   "outputs": [],
   "source": [
    "# write your code here"
   ]
  },
  {
   "attachments": {},
   "cell_type": "markdown",
   "metadata": {},
   "source": [
    "**Question 4:** Find the socially optimal tax rate $\\tau^{\\star}\\in(0,1)$ maximizing worker utility. Illustrate your result."
   ]
  },
  {
   "cell_type": "code",
   "execution_count": 64,
   "metadata": {},
   "outputs": [],
   "source": [
    "# write your code here"
   ]
  },
  {
   "attachments": {},
   "cell_type": "markdown",
   "metadata": {},
   "source": [
    "A more general preference formulation for the worker is:\n",
    "\n",
    "$$\n",
    "\\begin{align*}\n",
    "\\mathcal{V}(w,\\tau,G)&=\\max_{L\\in[0,24]}\\frac{\\left[ \\left( \\alpha C^{\\frac{\\sigma-1}{\\sigma}}+(1-\\alpha) G^{\\frac{\\sigma-1}{\\sigma}} \\right)^{\\frac{\\sigma}{1-\\sigma} }\\right]^{1-\\rho}-1}{1-\\rho}- \\nu\\frac{L^{1+\\varepsilon}}{1+\\varepsilon},\\,\\,\\,\\varepsilon,\\rho,\\sigma>0,\\,\\,\\,\\rho,\\sigma\\neq1\\\\&\\text{s.t.}\\\\&C=\\kappa+(1-\\tau)wL\n",
    "\\end{align*}    \n",
    "$$\n",
    "\n",
    "Optimal labor supply is now $L^{\\star}(\\tilde{w},G)$."
   ]
  },
  {
   "attachments": {},
   "cell_type": "markdown",
   "metadata": {},
   "source": [
    "Questions 5 and 6 must be answered with the general formulation, and for 2 different set of parameters:\n",
    "\n",
    "- Set 1:  $\\sigma = 1.001$, $\\rho = 1.001$ and $\\varepsilon = 1.0$.\n",
    "- Set 2:  $\\sigma = 1.5$, $\\rho = 1.5$ and $\\varepsilon = 1.0 $."
   ]
  },
  {
   "attachments": {},
   "cell_type": "markdown",
   "metadata": {},
   "source": [
    "**Question 5:** Find the $G$ that solves $G = \\tau w L^{\\star}((1-\\tau)w,G)$ using the $\\tau$ found in question 4.\n",
    "\n",
    "*Hint: First write code that solves the worker problem for given values of $G$ and $\\tau$. Then find the correct G based on this.*"
   ]
  },
  {
   "cell_type": "code",
   "execution_count": 65,
   "metadata": {},
   "outputs": [],
   "source": [
    "# write your code here"
   ]
  },
  {
   "attachments": {},
   "cell_type": "markdown",
   "metadata": {},
   "source": [
    "**Question 6:** Find the socially optimal tax rate, $\\tau^{\\star}$, maximizing worker utility, while keeping $G = \\tau w L^{\\star}((1-\\tau)w,G)$."
   ]
  },
  {
   "cell_type": "code",
   "execution_count": 66,
   "metadata": {},
   "outputs": [],
   "source": [
    "# write your code here  "
   ]
  },
  {
   "attachments": {},
   "cell_type": "markdown",
   "metadata": {},
   "source": [
    "## 2. <a id='toc2_'></a>[Problem 2: Labor adjustment costs](#toc0_)"
   ]
  },
  {
   "attachments": {},
   "cell_type": "markdown",
   "metadata": {},
   "source": [
    "You own a hair salon. You employ hairdressers, $\\ell_t$, to produce haircuts, $y_t = \\ell_t$.\n",
    "\n",
    "The wage for each haridresser is $w$.\n",
    "\n",
    "The demand for haircuts implies that the price of haircuts you can charge is $p_t = \\kappa_t y_t^{-\\eta}$, where $\\kappa_t$ is a demand-shock and $\\eta \\in (0,1)$ measures the elasticity of demand.\n",
    "\n",
    "Profits are:\n",
    "\n",
    "$$\n",
    "\\Pi_t = p_t y_t - w \\ell_t = \\kappa_t \\ell_t^{1-\\eta} - w \\ell_t\n",
    "$$"
   ]
  },
  {
   "attachments": {},
   "cell_type": "markdown",
   "metadata": {},
   "source": [
    "Baseline parameters are:\n",
    "- $\\eta = 0.5$\n",
    "- $w = 1.0$"
   ]
  },
  {
   "attachments": {},
   "cell_type": "markdown",
   "metadata": {},
   "source": [
    "**Question 1:** Verify numerically that $\\ell_{t}=\\left(\\frac{(1-\\eta)\\kappa_{t}}{w}\\right)^{\\frac{1}{\\eta}}$ maximises profits, for $\\kappa\\in\\left\\{1.0 , 2.0\\right\\}$."
   ]
  },
  {
   "attachments": {},
   "cell_type": "markdown",
   "metadata": {},
   "source": [
    "In order to show numerically that the statement above maximizes profit for $\\kappa \\in \\{1.0,2.0\\}$, we are calculating the optimal profit and optimal $\\ell_t$ for both values for $\\kappa$."
   ]
  },
  {
   "cell_type": "code",
   "execution_count": 67,
   "metadata": {},
   "outputs": [
    {
     "name": "stdout",
     "output_type": "stream",
     "text": [
      "Optimal Employment Level for kappa=1.0: 0.25\n",
      "Optimal Profit for kappa=1.0: 0.25\n",
      "\n",
      "Optimal Employment Level for kappa=2.0: 1.0\n",
      "Optimal Profit for kappa=2.0: 1.0\n",
      "\n"
     ]
    }
   ],
   "source": [
    "# define parameters\n",
    "eta = 0.5\n",
    "w = 1.0\n",
    "\n",
    "# define profit function\n",
    "def calculate_profit(kappa, eta, w, ell):\n",
    "    profit = kappa * ell**(1 - eta) - w * ell\n",
    "    return profit\n",
    "\n",
    "# define kappa values\n",
    "kappa_values = [1.0, 2.0]\n",
    "\n",
    "# loop over kappa values in the function for ell stated in Q1, and in the profit function\n",
    "for kappa in kappa_values:\n",
    "    optimal_ell = ((1 - eta) * kappa / w) ** (1 / eta)\n",
    "    optimal_profit = calculate_profit(kappa, eta, w, optimal_ell)\n",
    "    \n",
    "    # print results\n",
    "    print(f\"Optimal Employment Level for kappa={kappa}: {optimal_ell}\")\n",
    "    print(f\"Optimal Profit for kappa={kappa}: {optimal_profit}\")\n",
    "    print()"
   ]
  },
  {
   "attachments": {},
   "cell_type": "markdown",
   "metadata": {},
   "source": [
    "It is now clear, that since the values for the optimal employment level and optimal profit are equally for each values of $\\kappa$, we can conclude that $\\ell_{t}=\\left(\\frac{(1-\\eta)\\kappa_{t}}{w}\\right)^{\\frac{1}{\\eta}}$ maiximizes profit for the two values of $\\kappa$."
   ]
  },
  {
   "attachments": {},
   "cell_type": "markdown",
   "metadata": {},
   "source": [
    "### Ny opgave"
   ]
  },
  {
   "attachments": {},
   "cell_type": "markdown",
   "metadata": {},
   "source": [
    "We now consider a *dynamic* version of the model.\n",
    "\n",
    "* The demand-shock is a so-called AR(1) in logs, \n",
    "\n",
    "$$\n",
    "\\log \\kappa_{t} = \\rho \\log \\kappa_{t-1} + \\epsilon_{t},\\,\\,\\, \\epsilon_{t+1} \\sim \\mathcal{N}(-0.5\\sigma_{\\epsilon}^2,\\sigma_{\\epsilon})\n",
    "$$\n",
    "\n",
    "* Any hiring or firing implies a fixed adjustment cost, $\\iota > 0 $.\n",
    "* Future profits are discounted with a monthly factor of $R \\in (0,1)$.\n",
    "\n",
    "The initial demand shock is $\\kappa_{-1} = 1$ and the planning horizon is 10 years, i.e. 120 months so $t \\in \\{0,1,2,\\dots,119\\}$. Initially you don't have any employees, $\\ell_{-1}=0$"
   ]
  },
  {
   "attachments": {},
   "cell_type": "markdown",
   "metadata": {},
   "source": [
    "\n",
    "The *ex post* value of the salon is *conditional* on the shock series is:\n",
    "\n",
    "$$\n",
    "h(\\epsilon_0,\\epsilon_1,\\dots,\\epsilon_{119}) = \\left[\\sum_{t=0}^{119}R^{-t}\\left[\\kappa_{t}\\ell_{t}^{1-\\eta}-w\\ell_{t}-\\boldsymbol{1}_{\\ell_{t}\\neq\\ell_{t-1}}\\iota\\right]\\right]\n",
    "$$\n",
    "\n",
    "The *ex ante* expected value of the salon can be approximated by\n",
    "\n",
    "$$\n",
    "H = \\mathbb{E}[h(\\epsilon_0,\\epsilon_1,\\dots,\\epsilon_{119})] \\approx \\frac{1}{K}\\sum_{k=0}^{K} h(\\epsilon_0^k,\\epsilon_1^k,\\dots,\\epsilon_{119}^k)\n",
    "$$\n",
    "\n",
    "where each $k\\in\\{0,1,\\dots,K-1\\}$ is a random shock series. Maximizing profitability means maximizing $H$.\n"
   ]
  },
  {
   "attachments": {},
   "cell_type": "markdown",
   "metadata": {},
   "source": [
    "Baseline parameters are: \n",
    "\n",
    "- $\\rho = 0.90$\n",
    "- $\\iota = 0.01$\n",
    "- $\\sigma_{\\epsilon} = 0.10$\n",
    "- $R = \\left(1+0.01\\right)^{1/12}$"
   ]
  },
  {
   "attachments": {},
   "cell_type": "markdown",
   "metadata": {},
   "source": [
    "**Question 2:** Calculate $H$ if the policy  $\\ell_{t}=\\left(\\frac{(1-\\eta)\\kappa_{t}}{w}\\right)^{\\frac{1}{\\eta}}$ from question 1 is followed. Choose $K$ so the approximation is good enough to not affect your results substantially."
   ]
  },
  {
   "cell_type": "code",
   "execution_count": 68,
   "metadata": {},
   "outputs": [
    {
     "name": "stdout",
     "output_type": "stream",
     "text": [
      "H:27.74\n"
     ]
    }
   ],
   "source": [
    "# define parameters\n",
    "rho = 0.90\n",
    "iota = 0.01\n",
    "sigma_epsilon = 0.10\n",
    "R = (1 + 0.01)**(1/12)\n",
    "eta = 0.5\n",
    "w = 1.0\n",
    "\n",
    "# define calculation of ex post\n",
    "def calculate_ex_post_value(shock_series):\n",
    "    ex_post_value = 0 # initialize ex-post value\n",
    "    ell_prev = 0\n",
    "    # loop over shock series\n",
    "    for t, kappa in enumerate(shock_series):\n",
    "        ell = ((1 - eta) * kappa / w) ** (1 / eta) \n",
    "        profit = calculate_profit(kappa, eta, w, ell)\n",
    "        ex_post_value += R**(-t) * (profit - (ell != ell_prev) * iota) # update ex-post value\n",
    "        ell_prev = ell\n",
    "    \n",
    "    return ex_post_value\n",
    "\n",
    "# set the number of shock series to simulate\n",
    "K = 10000\n",
    "\n",
    "# set random seed for reproducibility\n",
    "np.random.seed(0)\n",
    "\n",
    "# create list to store ex-post value\n",
    "ex_post_values = []\n",
    "# simulate shock series and calculate ex-post value for each series\n",
    "for _ in range(K):\n",
    "    shock_series = np.ones(120)  \n",
    "    # generate shock series\n",
    "    for t in range(1, 120):\n",
    "        epsilon = np.random.normal(-0.5 * sigma_epsilon**2, sigma_epsilon) # generate random shock\n",
    "        shock_series[t] = np.exp(rho * np.log(shock_series[t-1]) + epsilon) # update shock value\n",
    "    \n",
    "    ex_post_value = calculate_ex_post_value(shock_series) # calculate ex-post value\n",
    "    ex_post_values.append(ex_post_value)\n",
    "\n",
    "# calculate H as the average of ex post values\n",
    "H = np.mean(ex_post_values)\n",
    "\n",
    "print(\"H:{:.2f}\".format(H))"
   ]
  },
  {
   "attachments": {},
   "cell_type": "markdown",
   "metadata": {},
   "source": [
    "We have chosen the value of K to be $10,000$, in order to be able to compute a rather precise value of H, but without raising the number of shock series too much, such that the calculation is too time-consuming. By doing so, we get a value of $H=27.74$, which does not change significantly by raising the number of shock series."
   ]
  },
  {
   "attachments": {},
   "cell_type": "markdown",
   "metadata": {},
   "source": [
    "### Ny opgave"
   ]
  },
  {
   "attachments": {},
   "cell_type": "markdown",
   "metadata": {},
   "source": [
    "Next, we consider policies on the form:\n",
    "\n",
    "$$\n",
    "\n",
    "\\ell_{t}=\\begin{cases}\n",
    "\\ell_t^{\\ast}  & \\text{if }\\left|\\ell_{t-1}-\\ell_t^{\\ast} \\right|>\\Delta\\\\\n",
    "\\ell_{t-1} & \\text{else }\n",
    "\\end{cases}\n",
    "\\\\\n",
    "\\text{where}\\,\\,\\ell_t^{\\ast} = \\left(\\frac{(1-\\eta)\\kappa_{t}}{w}\\right)^{\\frac{1}{\\eta}} \\\\\n",
    "\n",
    "$$\n",
    "With $\\Delta \\geq 0$ and $\\Delta = 0$ being the previous policy.\n"
   ]
  },
  {
   "attachments": {},
   "cell_type": "markdown",
   "metadata": {},
   "source": [
    "\n",
    "**Question 3:** Calculate $H$ if the policy above was followed with $\\Delta = 0.05$. Does it improve profitability?"
   ]
  },
  {
   "cell_type": "code",
   "execution_count": 69,
   "metadata": {},
   "outputs": [
    {
     "name": "stdout",
     "output_type": "stream",
     "text": [
      "H: 31.82\n"
     ]
    }
   ],
   "source": [
    "# define delta\n",
    "delta = 0.05\n",
    "\n",
    "# define the shock series length\n",
    "T = 120\n",
    "\n",
    "# generate shock series\n",
    "np.random.seed(0) \n",
    "# generalt series of random shocks following a normal distribution with mean -0.5*sigma_epsilon^2\n",
    "# and standard deviation sigma_epsilon.\n",
    "epsilon_series = np.random.normal(-0.5 * sigma_epsilon ** 2, sigma_epsilon, size=T)\n",
    "\n",
    "# make arrays to store the different series\n",
    "shock_series = np.zeros(T+1)\n",
    "ell_series = np.zeros(T+1)\n",
    "ell_ast_series = np.zeros(T+1)\n",
    "\n",
    "# set initial values\n",
    "shock_series[0] = 1\n",
    "ell_series[0] = 0\n",
    "ell_ast_series[0] = ((1 - eta) * shock_series[0] / w) ** (1 / eta)\n",
    "\n",
    "# calculate shock series and employment levels\n",
    "for t in range(1, T+1):\n",
    "    # take log of the previous shock value, ensuring it's not negative or zero\n",
    "    log_shock_prev = np.log(max(shock_series[t-1], 0.000000000001))  \n",
    "    # calculate shock value\n",
    "    shock_series[t] = np.exp(rho * log_shock_prev + epsilon_series[t-1])\n",
    "    ell_ast_series[t] = ((1 - eta) * shock_series[t] / w) ** (1 / eta)\n",
    "    # check if the difference between the previous employment an optimal level exceeds the threshold\n",
    "    # if yes, employmeny level is updated to the optimal level, otherwise the employment level is kept\n",
    "    if abs(ell_series[t-1] - ell_ast_series[t]) > delta:\n",
    "        ell_series[t] = ell_ast_series[t]\n",
    "    else:\n",
    "        ell_series[t] = ell_series[t-1]\n",
    "\n",
    "# calculate ex-post value\n",
    "ex_post_value = np.sum(R ** np.arange(T+1) * (shock_series * ell_series ** (1 - eta) - w * ell_series))\n",
    "\n",
    "# calculate ex-ante expected value\n",
    "K = 10000  \n",
    "ex_ante_value = 0 # variable to store the cumulative expected value\n",
    "for _ in range(K):\n",
    "    # generate a new shock series for each simulation\n",
    "    epsilon_series = np.random.normal(-0.5 * sigma_epsilon ** 2, sigma_epsilon, size=T)\n",
    "    shock_series[0] = 1\n",
    "    ell_series[0] = 0\n",
    "    ell_ast_series[0] = ((1 - eta) * shock_series[0] / w) ** (1 / eta)\n",
    "    \n",
    "    for t in range(1, T+1):\n",
    "        log_shock_prev = np.log(max(shock_series[t-1], 0.000000000001))\n",
    "        shock_series[t] = np.exp(rho * log_shock_prev + epsilon_series[t-1])\n",
    "        ell_ast_series[t] = ((1 - eta) * shock_series[t] / w) ** (1 / eta)\n",
    "        if abs(ell_series[t-1] - ell_ast_series[t]) > delta:\n",
    "            ell_series[t] = ell_ast_series[t]\n",
    "        else:\n",
    "            ell_series[t] = ell_series[t-1]\n",
    "    ex_ante_value += np.sum(R ** np.arange(T+1) * (shock_series * ell_series ** (1 - eta) - w * ell_series))\n",
    "\n",
    "# divide the cumulative expected value by the number of simulations to get the average ex-ante expected value\n",
    "ex_ante_value /= K\n",
    "\n",
    "# print the result\n",
    "print(\"H: {:.2f}\".format(ex_ante_value))"
   ]
  },
  {
   "attachments": {},
   "cell_type": "markdown",
   "metadata": {},
   "source": [
    "We now get a value of $H=31.82$, using the same number of shock series $K=10,000$ as this is good enough to approximate the result. We can see, that including $\\Delta=0.05$ improves the profitability, as H is now $31.82$ instead of $27.74$ as we found in Q2. This indicates an improvement of profitability."
   ]
  },
  {
   "attachments": {},
   "cell_type": "markdown",
   "metadata": {},
   "source": [
    "**Question 4:** Find the optimal $\\Delta$ maximizing $H$. Illustrate your result."
   ]
  },
  {
   "cell_type": "code",
   "execution_count": 70,
   "metadata": {},
   "outputs": [
    {
     "data": {
      "image/png": "[encoded data removed]",
      "text/plain": [
       "<Figure size 640x480 with 1 Axes>"
      ]
     },
     "metadata": {},
     "output_type": "display_data"
    },
    {
     "name": "stdout",
     "output_type": "stream",
     "text": [
      "Optimal Delta: 0.0\n",
      "Maximized H: 38.18934317036668\n"
     ]
    }
   ],
   "source": [
    "# set random seed\n",
    "np.random.seed(0)\n",
    "\n",
    "# Define the policy function\n",
    "def policy_function(kappa, eta, w, delta):\n",
    "    return ((1 - eta) * kappa / w)**(1 / eta) if abs(kappa - w) > delta else kappa\n",
    "\n",
    "# Calculate H based on the policy with a specific Delta value\n",
    "def calculate_H_with_policy(delta):\n",
    "    # Initialize variables\n",
    "    kappa = 1.0\n",
    "    employment = 0\n",
    "    H = 0\n",
    "\n",
    "    # Simulate shock series\n",
    "    shock_series = [np.log(kappa)]\n",
    "\n",
    "    for t in range(120):\n",
    "        # Generate shock\n",
    "        epsilon = np.random.normal(-0.5 * sigma_epsilon**2, sigma_epsilon)\n",
    "        shock = rho * shock_series[t] + epsilon\n",
    "        shock_series.append(shock)\n",
    "\n",
    "        # Calculate policy employment level\n",
    "        employment_policy = policy_function(np.exp(shock), 0.5, 1.0, delta)\n",
    "\n",
    "        # Update employment level\n",
    "        employment = employment_policy if abs(employment - employment_policy) > delta else employment\n",
    "\n",
    "        # Calculate profits\n",
    "        price = np.exp(shock) * employment**(-0.5)\n",
    "        profits = price * employment - 1.0 * employment\n",
    "\n",
    "        # Add profits to H\n",
    "        H += R**(-t) * (profits - int(abs(employment - employment_policy) > delta) * iota)\n",
    "\n",
    "    return H\n",
    "\n",
    "# Optimization process to find the optimal Delta maximizing H\n",
    "delta_values = np.arange(0, 0.1, 0.01)\n",
    "H_values = []\n",
    "\n",
    "for delta in delta_values:\n",
    "    # Calculate H using the given policy and current Delta\n",
    "    H = calculate_H_with_policy(delta)\n",
    "    H_values.append(H)\n",
    "\n",
    "# Find the optimal Delta maximizing H\n",
    "optimal_delta = delta_values[np.argmax(H_values)]\n",
    "max_H = np.max(H_values)\n",
    "\n",
    "# Plot the relationship between Delta and H\n",
    "plt.plot(delta_values, H_values)\n",
    "plt.xlabel(\"Delta\")\n",
    "plt.ylabel(\"H\")\n",
    "plt.title(\"Optimal Delta Maximizing H\")\n",
    "plt.grid(True)\n",
    "plt.show()\n",
    "\n",
    "print(\"Optimal Delta:\", optimal_delta)\n",
    "print(\"Maximized H:\", max_H)"
   ]
  },
  {
   "attachments": {},
   "cell_type": "markdown",
   "metadata": {},
   "source": [
    "In this case, we can see that H is actually optimized when $\\Delta=0.0$. In this case we have that $H=38.19$. For all other values of $\\Delta$, we can see from the plot that the H values are lower than 30."
   ]
  },
  {
   "attachments": {},
   "cell_type": "markdown",
   "metadata": {},
   "source": [
    "### Ny opgave"
   ]
  },
  {
   "attachments": {},
   "cell_type": "markdown",
   "metadata": {},
   "source": [
    "\n",
    "**Question 5:** Suggest an alternative policy you believe might improve profitability. Implement and test your policy.\n",
    "\n"
   ]
  },
  {
   "cell_type": "code",
   "execution_count": 71,
   "metadata": {},
   "outputs": [],
   "source": [
    "# write your code here"
   ]
  },
  {
   "attachments": {},
   "cell_type": "markdown",
   "metadata": {},
   "source": [
    "## 3. <a id='toc3_'></a>[Problem 3: Global optimizer with refined multi-start](#toc0_)"
   ]
  },
  {
   "attachments": {},
   "cell_type": "markdown",
   "metadata": {},
   "source": [
    "We consider the Griewank function:\n",
    "\n",
    "$$ f(\\boldsymbol{x}) = \\sum^n_{i=1} \\frac{x^2_i}{4000}-\\prod^n_{i=1}\\cos\\left(\\frac{x_i}{\\sqrt{i}}\\right)+1$$\n",
    "\n",
    "The **global minimum** of this function is $f(0,0) = 0$ (remember: $\\cos(0)=1$).<br>\n",
    "But the function also have a lot of **local minima**."
   ]
  },
  {
   "cell_type": "code",
   "execution_count": 72,
   "metadata": {},
   "outputs": [],
   "source": [
    "def griewank(x):\n",
    "    return griewank_(x[0],x[1])\n",
    "    \n",
    "def griewank_(x1,x2):\n",
    "    A = x1**2/4000 + x2**2/4000\n",
    "    B = np.cos(x1/np.sqrt(1))*np.cos(x2/np.sqrt(2))\n",
    "    return A-B+1"
   ]
  },
  {
   "attachments": {},
   "cell_type": "markdown",
   "metadata": {},
   "source": [
    "A **refined global optimizer with multi-start** is:\n",
    "\n",
    "1. Choose *bounds* for $\\mathbf{x}$ and *tolerance* $\\tau > 0$.\n",
    "2. Choose number of *warm-up iterations*, $\\underline{K} > 0$ and *maximum number of iterations*, $K > \\underline{K}$.\n",
    "3. In each iteration for $k \\in \\{0,1,\\dots,K-1\\}$:\n",
    "\n",
    "    A. Draw random $\\mathbf{x}^k$ uniformly within chosen bounds.\n",
    "\n",
    "    B. If $k < \\underline{K}$ go to step E.\n",
    "\n",
    "    C. Calculate $\\chi^k = 0.50\\cdot\\frac{2}{1+\\exp((k-\\underline{K})/100)}$  \n",
    "\n",
    "    D. Set $\\mathbf{x}^{k0} = \\chi^k \\mathbf{x}^k + (1-\\chi^k)\\mathbf{x}^{\\ast} $\n",
    "\n",
    "    E. Run optimizer with $\\mathbf{x}^{k0}$ as initial guess and $\\mathbf{x}^{k\\ast}$ as result.\n",
    "\n",
    "    F. Set $\\mathbf{x}^{\\ast} = \\mathbf{x}^{k\\ast}$ if $k = 0$ or $f(\\mathbf{x}^{k\\ast}) < f(\\mathbf{x}^{\\ast})$\n",
    "\n",
    "    G. If $f(\\mathbf{x}^{\\ast}) < \\tau$ go to step 4.\n",
    "\n",
    "4. Return the result $\\mathbf{x}^{\\ast}$."
   ]
  },
  {
   "attachments": {},
   "cell_type": "markdown",
   "metadata": {},
   "source": [
    "As settings we choose:\n",
    "\n",
    "* $x_1,x_2 \\in  [-600,600]$\n",
    "* $\\tau = 10^{-8}$\n",
    "* $\\underline{K}=10$\n",
    "* $K=1000$\n",
    "\n",
    "The optimizer in Step 3.E is `BFGS` with a tolerance of $\\tau$."
   ]
  },
  {
   "attachments": {},
   "cell_type": "markdown",
   "metadata": {},
   "source": [
    "**Question 1:** Implement the refined global optimizer with multi-start. Illustrate how the effective initial guesses $\\mathbf{x}^{k0}$ vary with the iteration counter $k$."
   ]
  },
  {
   "cell_type": "code",
   "execution_count": 73,
   "metadata": {},
   "outputs": [],
   "source": [
    "# write your code here"
   ]
  },
  {
   "attachments": {},
   "cell_type": "markdown",
   "metadata": {},
   "source": [
    "**Question 2:** Is it a better idea to set $\\underline{K} = 100$? Is the convergence faster?"
   ]
  },
  {
   "cell_type": "code",
   "execution_count": 74,
   "metadata": {},
   "outputs": [],
   "source": [
    "# write your code here"
   ]
  }
 ],
 "metadata": {
  "kernelspec": {
   "display_name": "base",
   "language": "python",
   "name": "python3"
  },
  "language_info": {
   "codemirror_mode": {
    "name": "ipython",
    "version": 3
   },
   "file_extension": ".py",
   "mimetype": "text/x-python",
   "name": "python",
   "nbconvert_exporter": "python",
   "pygments_lexer": "ipython3",
   "version": "3.9.16"
  },
  "orig_nbformat": 4
 },
 "nbformat": 4,
 "nbformat_minor": 2
}
