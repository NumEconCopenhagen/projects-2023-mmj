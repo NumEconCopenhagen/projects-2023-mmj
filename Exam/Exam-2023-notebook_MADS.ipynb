{
 "cells": [
  {
   "attachments": {},
   "cell_type": "markdown",
   "metadata": {},
   "source": [
    "**Table of contents**<a id='toc0_'></a>    \n",
    "- 1. [Problem 1: Optimal taxation with government consumption](#toc1_)    \n",
    "- 2. [Problem 2: Labor adjustment costs](#toc2_)    \n",
    "- 3. [Problem 3: Global optimizer with refined multi-start](#toc3_)    \n",
    "\n",
    "<!-- vscode-jupyter-toc-config\n",
    "\tnumbering=true\n",
    "\tanchor=true\n",
    "\tflat=false\n",
    "\tminLevel=2\n",
    "\tmaxLevel=6\n",
    "\t/vscode-jupyter-toc-config -->\n",
    "<!-- THIS CELL WILL BE REPLACED ON TOC UPDATE. DO NOT WRITE YOUR TEXT IN THIS CELL -->"
   ]
  },
  {
   "cell_type": "code",
   "execution_count": 65,
   "metadata": {},
   "outputs": [],
   "source": [
    "# write your code here"
   ]
  },
  {
   "attachments": {},
   "cell_type": "markdown",
   "metadata": {},
   "source": [
    "## 1. <a id='toc1_'></a>[Problem 1: Optimal taxation with government consumption](#toc0_)"
   ]
  },
  {
   "attachments": {},
   "cell_type": "markdown",
   "metadata": {},
   "source": [
    "\n",
    "Consider a worker choosing hours of labor, $L\\in[0,24]$, to maximize utility: \n",
    "\n",
    "$$\n",
    "\\begin{align*}\n",
    "V(w,\\tau,G)&=\\max_{L\\in[0,24]}\\ln\\left(C^{\\alpha}G^{1-\\alpha}\\right)-\\nu\\frac{L^{2}}{2}\\\\&\\text{s.t.}\\\\&C=\\kappa+(1-\\tau)wL\n",
    "\\end{align*}\n",
    "$$\n",
    "\n",
    "where \n",
    "\n",
    "* $C$ is *private* consumption with weight $\\alpha\\in(0,1)$.\n",
    "* $\\kappa > 0$ is the *free private* consumption component.\n",
    "* $C = (1-\\tau)wL$ is the *costly private* consumption component.\n",
    "* $w > 0 $ is the real wage.\n",
    "* $\\tau \\in (0,1)$ is the labor-income tax rate.\n",
    "* $G > 0 $ is *government* consumption with weight $1-\\alpha$.\n",
    "* $\\nu > 0$ is the disutility of labor scaling factor"
   ]
  },
  {
   "attachments": {},
   "cell_type": "markdown",
   "metadata": {},
   "source": [
    "\n",
    "The baseline parameters are:\n",
    "\n",
    "$$\n",
    "\\begin{align*}\n",
    "\\alpha &= 0.5\\\\\n",
    "\\kappa &= 1.0\\\\\n",
    "\\nu &= \\frac{1}{2\\cdot16^2} \\\\\n",
    "w &= 1.0 \\\\ \n",
    "\\tau &= 0.30 \\\\\n",
    "\\end{align*}\n",
    "$$"
   ]
  },
  {
   "attachments": {},
   "cell_type": "markdown",
   "metadata": {},
   "source": [
    "**Question 1:** Verify that the optimal labor supply choice is $L^{\\star}(\\tilde{w}) =\\frac{-\\kappa+\\sqrt{\\kappa^{2}+4\\frac{\\alpha}{\\nu}\\tilde{w}^2}}{2\\tilde{w}}$, where $\\tilde{w} = (1-\\tau)w$, for $G\\in\\left\\{1.0 , 2.0\\right\\}$."
   ]
  },
  {
   "cell_type": "code",
   "execution_count": 66,
   "metadata": {},
   "outputs": [],
   "source": [
    "import sympy as sm\n",
    "\n",
    "alpha = sm.symbols('alpha')\n",
    "kappa = sm.symbols('kappa')\n",
    "nu = sm.symbols('nu')\n",
    "w = sm.symbols('w')\n",
    "wtilde = sm.symbols('omega')\n",
    "tau = sm.symbols('tau')\n",
    "C = sm.symbols('C')\n",
    "G = sm.symbols('G')\n",
    "L = sm.symbols('L')\n"
   ]
  },
  {
   "cell_type": "code",
   "execution_count": 67,
   "metadata": {},
   "outputs": [
    {
     "data": {
      "text/latex": [
       "$\\displaystyle - \\frac{L^{2} \\nu}{2} + \\log{\\left(C^{\\alpha} G^{1 - \\alpha} \\right)}$"
      ],
      "text/plain": [
       "-L**2*nu/2 + log(C**alpha*G**(1 - alpha))"
      ]
     },
     "execution_count": 67,
     "metadata": {},
     "output_type": "execute_result"
    }
   ],
   "source": [
    "objective = sm.log(C**alpha*G**(1-alpha))-nu*L**2/2\n",
    "objective"
   ]
  },
  {
   "cell_type": "code",
   "execution_count": 68,
   "metadata": {},
   "outputs": [
    {
     "data": {
      "text/latex": [
       "$\\displaystyle L \\omega + \\kappa = C$"
      ],
      "text/plain": [
       "Eq(L*omega + kappa, C)"
      ]
     },
     "execution_count": 68,
     "metadata": {},
     "output_type": "execute_result"
    }
   ],
   "source": [
    "constraint = sm.Eq(kappa+wtilde*L, C)\n",
    "constraint"
   ]
  },
  {
   "cell_type": "code",
   "execution_count": 69,
   "metadata": {},
   "outputs": [
    {
     "data": {
      "text/latex": [
       "$\\displaystyle L \\omega + \\kappa$"
      ],
      "text/plain": [
       "L*omega + kappa"
      ]
     },
     "execution_count": 69,
     "metadata": {},
     "output_type": "execute_result"
    }
   ],
   "source": [
    "C_from_con = sm.solve(constraint, C)\n",
    "C_from_con[0]"
   ]
  },
  {
   "cell_type": "code",
   "execution_count": 70,
   "metadata": {},
   "outputs": [
    {
     "data": {
      "text/latex": [
       "$\\displaystyle - \\frac{L^{2} \\nu}{2} + \\log{\\left(G^{1 - \\alpha} \\left(L \\omega + \\kappa\\right)^{\\alpha} \\right)}$"
      ],
      "text/plain": [
       "-L**2*nu/2 + log(G**(1 - alpha)*(L*omega + kappa)**alpha)"
      ]
     },
     "execution_count": 70,
     "metadata": {},
     "output_type": "execute_result"
    }
   ],
   "source": [
    "objective_subs = objective.subs(C, C_from_con[0])\n",
    "objective_subs"
   ]
  },
  {
   "cell_type": "code",
   "execution_count": 71,
   "metadata": {},
   "outputs": [
    {
     "data": {
      "text/latex": [
       "$\\displaystyle \\frac{G^{1 - \\alpha} G^{\\alpha - 1} \\alpha \\omega}{L \\omega + \\kappa} - L \\nu$"
      ],
      "text/plain": [
       "G**(1 - alpha)*G**(alpha - 1)*alpha*omega/(L*omega + kappa) - L*nu"
      ]
     },
     "execution_count": 71,
     "metadata": {},
     "output_type": "execute_result"
    }
   ],
   "source": [
    "foc = sm.diff(objective_subs, L)\n",
    "foc"
   ]
  },
  {
   "cell_type": "code",
   "execution_count": 72,
   "metadata": {},
   "outputs": [
    {
     "data": {
      "text/latex": [
       "$\\displaystyle \\frac{- \\kappa \\nu + \\sqrt{\\nu \\left(4 \\alpha \\omega^{2} + \\kappa^{2} \\nu\\right)}}{2 \\nu \\omega}$"
      ],
      "text/plain": [
       "(-kappa*nu + sqrt(nu*(4*alpha*omega**2 + kappa**2*nu)))/(2*nu*omega)"
      ]
     },
     "execution_count": 72,
     "metadata": {},
     "output_type": "execute_result"
    }
   ],
   "source": [
    "sol = sm.solve(sm.Eq(foc,0), L)\n",
    "sol[1]"
   ]
  },
  {
   "attachments": {},
   "cell_type": "markdown",
   "metadata": {},
   "source": [
    "**Question 2:** Illustrate how $L^{\\star}(\\tilde{w})$ depends on $w$."
   ]
  },
  {
   "cell_type": "code",
   "execution_count": 73,
   "metadata": {},
   "outputs": [
    {
     "name": "stderr",
     "output_type": "stream",
     "text": [
      "<lambdifygenerated-14>:2: RuntimeWarning: invalid value encountered in true_divide\n",
      "  return 0.5*(32.0*sqrt(omega**2 + 0.0009765625) - 1.0)/omega\n"
     ]
    },
    {
     "data": {
      "image/png": "[encoded data removed]",
      "text/plain": [
       "<Figure size 640x480 with 1 Axes>"
      ]
     },
     "metadata": {},
     "output_type": "display_data"
    }
   ],
   "source": [
    "import matplotlib.pyplot as plt\n",
    "import numpy as np\n",
    "import sympy as sm\n",
    "\n",
    "sol_func = sm.lambdify(args=(alpha, kappa, nu, wtilde),expr=sol[1])\n",
    "\n",
    "# Define the parameter values\n",
    "alpha = 0.5\n",
    "kappa = 1.0\n",
    "nu = 1 / (2 * 16 ** 2)\n",
    "w = 1.0\n",
    "tau = 0.30\n",
    "wtilde = 0.7\n",
    "\n",
    "# Define the symbols and equations\n",
    "wtilde = sm.symbols('omega')\n",
    "C = sm.symbols('C')\n",
    "G = sm.symbols('G')\n",
    "L = sm.symbols('L')\n",
    "\n",
    "objective = sm.log(C ** alpha * G ** (1 - alpha)) - nu * L ** 2 / 2\n",
    "constraint = sm.Eq(kappa + wtilde * L, C)\n",
    "\n",
    "# Solve for C in terms of w and substitute in the objective function\n",
    "C_from_con = sm.solve(constraint, C)\n",
    "objective_subs = objective.subs(C, C_from_con[0])\n",
    "\n",
    "# Compute the first-order condition and solve for L\n",
    "foc = sm.diff(objective_subs, L)\n",
    "sol = sm.solve(sm.Eq(foc, 0), L)\n",
    "\n",
    "# Convert the symbolic expression to a numerical function\n",
    "sol_fn = sm.lambdify(wtilde, sol[1])\n",
    "\n",
    "# Create an array of w values\n",
    "w_values = np.linspace(0, 10, 100)\n",
    "\n",
    "# Evaluate the solution function for each w value\n",
    "sol_values = sol_fn(w_values)\n",
    "\n",
    "# Plot the relationship between w and sol\n",
    "plt.plot(w_values, sol_values)\n",
    "plt.xlabel('w')\n",
    "plt.ylabel('sol')\n",
    "plt.title(\"Relationship between 'sol' and 'w'\")\n",
    "plt.grid(True)\n",
    "plt.show()\n",
    "\n",
    "\n"
   ]
  },
  {
   "attachments": {},
   "cell_type": "markdown",
   "metadata": {},
   "source": [
    "\n",
    "We now consider a government, who chooses $\\tau$ and spend all of the taxes on government consumption so:\n",
    "\n",
    "$$\n",
    "G = \\tau w L^{\\star}((1-\\tau)w)\n",
    "$$\n",
    "\n",
    "**Question 3:** Plot the implied $L$, $G$ and worker utility for a grid of $\\tau$-values.\n"
   ]
  },
  {
   "attachments": {},
   "cell_type": "markdown",
   "metadata": {},
   "source": [
    "**Question 4:** Find the socially optimal tax rate $\\tau^{\\star}\\in(0,1)$ maximizing worker utility. Illustrate your result."
   ]
  },
  {
   "cell_type": "code",
   "execution_count": 74,
   "metadata": {},
   "outputs": [],
   "source": [
    "# write your code here"
   ]
  },
  {
   "attachments": {},
   "cell_type": "markdown",
   "metadata": {},
   "source": [
    "A more general preference formulation for the worker is:\n",
    "\n",
    "$$\n",
    "\\begin{align*}\n",
    "\\mathcal{V}(w,\\tau,G)&=\\max_{L\\in[0,24]}\\frac{\\left[ \\left( \\alpha C^{\\frac{\\sigma-1}{\\sigma}}+(1-\\alpha) G^{\\frac{\\sigma-1}{\\sigma}} \\right)^{\\frac{\\sigma}{1-\\sigma} }\\right]^{1-\\rho}-1}{1-\\rho}- \\nu\\frac{L^{1+\\varepsilon}}{1+\\varepsilon},\\,\\,\\,\\varepsilon,\\rho,\\sigma>0,\\,\\,\\,\\rho,\\sigma\\neq1\\\\&\\text{s.t.}\\\\&C=\\kappa+(1-\\tau)wL\n",
    "\\end{align*}    \n",
    "$$\n",
    "\n",
    "Optimal labor supply is now $L^{\\star}(\\tilde{w},G)$."
   ]
  },
  {
   "attachments": {},
   "cell_type": "markdown",
   "metadata": {},
   "source": [
    "Questions 5 and 6 must be answered with the general formulation, and for 2 different set of parameters:\n",
    "\n",
    "- Set 1:  $\\sigma = 1.001$, $\\rho = 1.001$ and $\\varepsilon = 1.0$.\n",
    "- Set 2:  $\\sigma = 1.5$, $\\rho = 1.5$ and $\\varepsilon = 1.0 $."
   ]
  },
  {
   "attachments": {},
   "cell_type": "markdown",
   "metadata": {},
   "source": [
    "**Question 5:** Find the $G$ that solves $G = \\tau w L^{\\star}((1-\\tau)w,G)$ using the $\\tau$ found in question 4.\n",
    "\n",
    "*Hint: First write code that solves the worker problem for given values of $G$ and $\\tau$. Then find the correct G based on this.*"
   ]
  },
  {
   "cell_type": "code",
   "execution_count": 75,
   "metadata": {},
   "outputs": [],
   "source": [
    "# write your code here"
   ]
  },
  {
   "attachments": {},
   "cell_type": "markdown",
   "metadata": {},
   "source": [
    "**Question 6:** Find the socially optimal tax rate, $\\tau^{\\star}$, maximizing worker utility, while keeping $G = \\tau w L^{\\star}((1-\\tau)w,G)$."
   ]
  },
  {
   "cell_type": "code",
   "execution_count": 76,
   "metadata": {},
   "outputs": [],
   "source": [
    "# write your code here  "
   ]
  },
  {
   "attachments": {},
   "cell_type": "markdown",
   "metadata": {},
   "source": [
    "## 2. <a id='toc2_'></a>[Problem 2: Labor adjustment costs](#toc0_)"
   ]
  },
  {
   "attachments": {},
   "cell_type": "markdown",
   "metadata": {},
   "source": [
    "You own a hair salon. You employ hairdressers, $\\ell_t$, to produce haircuts, $y_t = \\ell_t$.\n",
    "\n",
    "The wage for each haridresser is $w$.\n",
    "\n",
    "The demand for haircuts implies that the price of haircuts you can charge is $p_t = \\kappa_t y_t^{-\\eta}$, where $\\kappa_t$ is a demand-shock and $\\eta \\in (0,1)$ measures the elasticity of demand.\n",
    "\n",
    "Profits are:\n",
    "\n",
    "$$\n",
    "\\Pi_t = p_t y_t - w \\ell_t = \\kappa_t \\ell_t^{1-\\eta} - w \\ell_t\n",
    "$$"
   ]
  },
  {
   "attachments": {},
   "cell_type": "markdown",
   "metadata": {},
   "source": [
    "Baseline parameters are:\n",
    "- $\\eta = 0.5$\n",
    "- $w = 1.0$"
   ]
  },
  {
   "attachments": {},
   "cell_type": "markdown",
   "metadata": {},
   "source": [
    "**Question 1:** Verify numerically that $\\ell_{t}=\\left(\\frac{(1-\\eta)\\kappa_{t}}{w}\\right)^{\\frac{1}{\\eta}}$ maximises profits, for $\\kappa\\in\\left\\{1.0 , 2.0\\right\\}$."
   ]
  },
  {
   "cell_type": "code",
   "execution_count": 77,
   "metadata": {},
   "outputs": [],
   "source": [
    "# write your code here"
   ]
  },
  {
   "attachments": {},
   "cell_type": "markdown",
   "metadata": {},
   "source": [
    "We now consider a *dynamic* version of the model.\n",
    "\n",
    "* The demand-shock is a so-called AR(1) in logs, \n",
    "\n",
    "$$\n",
    "\\log \\kappa_{t} = \\rho \\log \\kappa_{t-1} + \\epsilon_{t},\\,\\,\\, \\epsilon_{t+1} \\sim \\mathcal{N}(-0.5\\sigma_{\\epsilon}^2,\\sigma_{\\epsilon})\n",
    "$$\n",
    "\n",
    "* Any hiring or firing implies a fixed adjustment cost, $\\iota > 0 $.\n",
    "* Future profits are discounted with a monthly factor of $R \\in (0,1)$.\n",
    "\n",
    "The initial demand shock is $\\kappa_{-1} = 1$ and the planning horizon is 10 years, i.e. 120 months so $t \\in \\{0,1,2,\\dots,119\\}$. Initially you don't have any employees, $\\ell_{-1}=0$"
   ]
  },
  {
   "attachments": {},
   "cell_type": "markdown",
   "metadata": {},
   "source": [
    "\n",
    "The *ex post* value of the salon is *conditional* on the shock series is:\n",
    "\n",
    "$$\n",
    "h(\\epsilon_0,\\epsilon_1,\\dots,\\epsilon_{119}) = \\left[\\sum_{t=0}^{119}R^{-t}\\left[\\kappa_{t}\\ell_{t}^{1-\\eta}-w\\ell_{t}-\\boldsymbol{1}_{\\ell_{t}\\neq\\ell_{t-1}}\\iota\\right]\\right]\n",
    "$$\n",
    "\n",
    "The *ex ante* expected value of the salon can be approximated by\n",
    "\n",
    "$$\n",
    "H = \\mathbb{E}[h(\\epsilon_0,\\epsilon_1,\\dots,\\epsilon_{119})] \\approx \\frac{1}{K}\\sum_{k=0}^{K} h(\\epsilon_0^k,\\epsilon_1^k,\\dots,\\epsilon_{119}^k)\n",
    "$$\n",
    "\n",
    "where each $k\\in\\{0,1,\\dots,K-1\\}$ is a random shock series. Maximizing profitability means maximizing $H$.\n"
   ]
  },
  {
   "attachments": {},
   "cell_type": "markdown",
   "metadata": {},
   "source": [
    "Baseline parameters are: \n",
    "\n",
    "- $\\rho = 0.90$\n",
    "- $\\iota = 0.01$\n",
    "- $\\sigma_{\\epsilon} = 0.10$\n",
    "- $R = \\left(1+0.01\\right)^{1/12}$"
   ]
  },
  {
   "attachments": {},
   "cell_type": "markdown",
   "metadata": {},
   "source": [
    "**Question 2:** Calculate $H$ if the policy  $\\ell_{t}=\\left(\\frac{(1-\\eta)\\kappa_{t}}{w}\\right)^{\\frac{1}{\\eta}}$ from question 1 is followed. Choose $K$ so the approximation is good enough to not affect your results substantially."
   ]
  },
  {
   "cell_type": "code",
   "execution_count": 78,
   "metadata": {},
   "outputs": [],
   "source": [
    "# write your code here "
   ]
  },
  {
   "attachments": {},
   "cell_type": "markdown",
   "metadata": {},
   "source": [
    "Next, we consider policies on the form:\n",
    "\n",
    "$$\n",
    "\n",
    "\\ell_{t}=\\begin{cases}\n",
    "\\ell_t^{\\ast}  & \\text{if }\\left|\\ell_{t-1}-\\ell_t^{\\ast} \\right|>\\Delta\\\\\n",
    "\\ell_{t-1} & \\text{else }\n",
    "\\end{cases}\n",
    "\\\\\n",
    "\\text{where}\\,\\,\\ell_t^{\\ast} = \\left(\\frac{(1-\\eta)\\kappa_{t}}{w}\\right)^{\\frac{1}{\\eta}} \\\\\n",
    "\n",
    "$$\n",
    "With $\\Delta \\geq 0$ and $\\Delta = 0$ being the previous policy.\n"
   ]
  },
  {
   "attachments": {},
   "cell_type": "markdown",
   "metadata": {},
   "source": [
    "\n",
    "**Question 3:** Calculate $H$ if the policy above was followed with $\\Delta = 0.05$. Does it improve profitability?"
   ]
  },
  {
   "cell_type": "code",
   "execution_count": 79,
   "metadata": {},
   "outputs": [],
   "source": [
    "# write your code here"
   ]
  },
  {
   "attachments": {},
   "cell_type": "markdown",
   "metadata": {},
   "source": [
    "**Question 4:** Find the optimal $\\Delta$ maximizing $H$. Illustrate your result."
   ]
  },
  {
   "cell_type": "code",
   "execution_count": 80,
   "metadata": {},
   "outputs": [],
   "source": [
    "# write your code here"
   ]
  },
  {
   "attachments": {},
   "cell_type": "markdown",
   "metadata": {},
   "source": [
    "\n",
    "**Question 5:** Suggest an alternative policy you believe might improve profitability. Implement and test your policy.\n",
    "\n"
   ]
  },
  {
   "cell_type": "code",
   "execution_count": 81,
   "metadata": {},
   "outputs": [],
   "source": [
    "# write your code here"
   ]
  },
  {
   "attachments": {},
   "cell_type": "markdown",
   "metadata": {},
   "source": [
    "## 3. <a id='toc3_'></a>[Problem 3: Global optimizer with refined multi-start](#toc0_)"
   ]
  },
  {
   "attachments": {},
   "cell_type": "markdown",
   "metadata": {},
   "source": [
    "We consider the Griewank function:\n",
    "\n",
    "$$ f(\\boldsymbol{x}) = \\sum^n_{i=1} \\frac{x^2_i}{4000}-\\prod^n_{i=1}\\cos\\left(\\frac{x_i}{\\sqrt{i}}\\right)+1$$\n",
    "\n",
    "The **global minimum** of this function is $f(0,0) = 0$ (remember: $\\cos(0)=1$).<br>\n",
    "But the function also have a lot of **local minima**."
   ]
  },
  {
   "cell_type": "code",
   "execution_count": 82,
   "metadata": {},
   "outputs": [],
   "source": [
    "def griewank(x):\n",
    "    return griewank_(x[0],x[1])\n",
    "    \n",
    "def griewank_(x1,x2):\n",
    "    A = x1**2/4000 + x2**2/4000\n",
    "    B = np.cos(x1/np.sqrt(1))*np.cos(x2/np.sqrt(2))\n",
    "    return A-B+1"
   ]
  },
  {
   "attachments": {},
   "cell_type": "markdown",
   "metadata": {},
   "source": [
    "A **refined global optimizer with multi-start** is:\n",
    "\n",
    "1. Choose *bounds* for $\\mathbf{x}$ and *tolerance* $\\tau > 0$.\n",
    "2. Choose number of *warm-up iterations*, $\\underline{K} > 0$ and *maximum number of iterations*, $K > \\underline{K}$.\n",
    "3. In each iteration for $k \\in \\{0,1,\\dots,K-1\\}$:\n",
    "\n",
    "    A. Draw random $\\mathbf{x}^k$ uniformly within chosen bounds.\n",
    "\n",
    "    B. If $k < \\underline{K}$ go to step E.\n",
    "\n",
    "    C. Calculate $\\chi^k = 0.50\\cdot\\frac{2}{1+\\exp((k-\\underline{K})/100)}$  \n",
    "\n",
    "    D. Set $\\mathbf{x}^{k0} = \\chi^k \\mathbf{x}^k + (1-\\chi^k)\\mathbf{x}^{\\ast} $\n",
    "\n",
    "    E. Run optimizer with $\\mathbf{x}^{k0}$ as initial guess and $\\mathbf{x}^{k\\ast}$ as result.\n",
    "\n",
    "    F. Set $\\mathbf{x}^{\\ast} = \\mathbf{x}^{k\\ast}$ if $k = 0$ or $f(\\mathbf{x}^{k\\ast}) < f(\\mathbf{x}^{\\ast})$\n",
    "\n",
    "    G. If $f(\\mathbf{x}^{\\ast}) < \\tau$ go to step 4.\n",
    "\n",
    "4. Return the result $\\mathbf{x}^{\\ast}$."
   ]
  },
  {
   "attachments": {},
   "cell_type": "markdown",
   "metadata": {},
   "source": [
    "As settings we choose:\n",
    "\n",
    "* $x_1,x_2 \\in  [-600,600]$\n",
    "* $\\tau = 10^{-8}$\n",
    "* $\\underline{K}=10$\n",
    "* $K=1000$\n",
    "\n",
    "The optimizer in Step 3.E is `BFGS` with a tolerance of $\\tau$."
   ]
  },
  {
   "attachments": {},
   "cell_type": "markdown",
   "metadata": {},
   "source": [
    "**Question 1:** Implement the refined global optimizer with multi-start. Illustrate how the effective initial guesses $\\mathbf{x}^{k0}$ vary with the iteration counter $k$."
   ]
  },
  {
   "cell_type": "code",
   "execution_count": 86,
   "metadata": {},
   "outputs": [
    {
     "name": "stdout",
     "output_type": "stream",
     "text": [
      "Iteration 0: x_k0 = [ 168.72338118 -280.2220425 ], f(x_k0) = 28.33629532211561\n",
      "Iteration 1: x_k0 = [-73.77259323 303.15712449], f(x_k0) = 25.377274085202902\n",
      "Iteration 2: x_k0 = [584.13336967 301.40028909], f(x_k0) = 108.15678174373777\n",
      "Iteration 3: x_k0 = [-530.65037134  218.14749556], f(x_k0) = 82.38060955193032\n",
      "Iteration 4: x_k0 = [110.4238951  556.90046467], f(x_k0) = 81.16938694360039\n",
      "Iteration 5: x_k0 = [-477.141067  -548.7013418], f(x_k0) = 133.18071187230112\n",
      "Iteration 6: x_k0 = [ 83.38585969 -31.55195068], f(x_k0) = 2.8606666707593407\n",
      "Iteration 7: x_k0 = [ 405.0742341  -199.07701698], f(x_k0) = 51.120550704174796\n",
      "Iteration 8: x_k0 = [ 493.51981912 -595.77867685], f(x_k0) = 151.54238151463142\n",
      "Iteration 9: x_k0 = [ 372.05215518 -499.54771089], f(x_k0) = 97.94902042336669\n",
      "Iteration 10: x_k0 = [307.28833779 -14.50343165], f(x_k0) = 25.2203179208179\n",
      "Iteration 11: x_k0 = [281.54003629 266.47141108], f(x_k0) = 38.20959967801094\n",
      "Iteration 12: x_k0 = [ 136.64594986 -276.3005413 ], f(x_k0) = 24.764563745071598\n",
      "Iteration 13: x_k0 = [-165.86511217 -110.90308641], f(x_k0) = 10.155890452798735\n",
      "Iteration 14: x_k0 = [-39.03330452 109.03417683], f(x_k0) = 4.383349394474733\n",
      "Iteration 15: x_k0 = [262.95917323  79.53706651], f(x_k0) = 19.302148688034702\n",
      "Iteration 16: x_k0 = [43.01012506 63.99149338], f(x_k0) = 2.3173683351054732\n",
      "Iteration 17: x_k0 = [25.83153382 24.00560525], f(x_k0) = 1.5402346559418756\n",
      "Iteration 18: x_k0 = [-142.69427686 -115.99992181], f(x_k0) = 9.685755731331222\n",
      "Iteration 19: x_k0 = [ 230.41952989 -133.6304582 ], f(x_k0) = 19.19222210618192\n",
      "Iteration 20: x_k0 = [-265.36717676  227.77966232], f(x_k0) = 31.64049737565546\n",
      "Iteration 21: x_k0 = [-106.06378548 -257.18576547], f(x_k0) = 19.66257084666443\n",
      "Iteration 22: x_k0 = [279.59347726 182.35965055], f(x_k0) = 27.867050900674748\n",
      "Iteration 23: x_k0 = [-213.40924847  143.82521728], f(x_k0) = 17.175412651877263\n",
      "Iteration 24: x_k0 = [ 141.95871789 -177.60846403], f(x_k0) = 14.754464792843294\n",
      "Iteration 25: x_k0 = [125.02968921 -31.97621494], f(x_k0) = 5.819687607961114\n",
      "Iteration 26: x_k0 = [-145.13392787  269.92105949], f(x_k0) = 25.061973353689375\n",
      "Iteration 27: x_k0 = [  98.07016097 -205.86169414], f(x_k0) = 14.383867250378326\n",
      "Iteration 28: x_k0 = [248.82542674 103.83302359], f(x_k0) = 18.856687859054357\n",
      "Iteration 29: x_k0 = [77.03777684 62.12244584], f(x_k0) = 3.5171027548366194\n",
      "Iteration 30: x_k0 = [-186.4413104    67.59058838], f(x_k0) = 10.467825290730113\n",
      "Iteration 31: x_k0 = [-163.19855346  -97.98948465], f(x_k0) = 9.087282844312695\n",
      "Iteration 32: x_k0 = [-131.19249887  -31.0906502 ], f(x_k0) = 6.273196193821397\n",
      "Iteration 33: x_k0 = [138.09222246 -63.41689961], f(x_k0) = 6.126710496680898\n",
      "Iteration 34: x_k0 = [-112.51879394 -155.27849392], f(x_k0) = 11.019900814008084\n",
      "Iteration 35: x_k0 = [-121.29377478  176.60701677], f(x_k0) = 12.713409097692898\n",
      "Iteration 36: x_k0 = [  0.77847645 -78.56094938], f(x_k0) = 2.1570362052228624\n",
      "Iteration 37: x_k0 = [ -51.22083863 -126.39020718], f(x_k0) = 5.555248112878712\n",
      "Iteration 38: x_k0 = [ 201.97151039 -172.07919514], f(x_k0) = 19.009091990149127\n",
      "Iteration 39: x_k0 = [172.14303443  44.55885579], f(x_k0) = 9.7006659827579\n",
      "Iteration 40: x_k0 = [  91.26245279 -201.89831889], f(x_k0) = 13.097264338640748\n",
      "Iteration 41: x_k0 = [-206.28982434  151.83380748], f(x_k0) = 16.98160671145739\n",
      "Iteration 42: x_k0 = [-56.61082106  60.60788662], f(x_k0) = 2.290126650799306\n",
      "Iteration 43: x_k0 = [ 82.24220165 125.21162169], f(x_k0) = 5.899036679186821\n",
      "Iteration 44: x_k0 = [-53.1082119   83.99596705], f(x_k0) = 2.554880372615475\n",
      "Iteration 45: x_k0 = [-167.17833366  185.91454074], f(x_k0) = 17.319302525568514\n",
      "Iteration 46: x_k0 = [-120.73910999   85.58726524], f(x_k0) = 6.618062864172319\n",
      "Iteration 47: x_k0 = [  15.16615544 -135.53882405], f(x_k0) = 5.631480878853537\n",
      "Iteration 48: x_k0 = [ 129.96155669 -130.62795966], f(x_k0) = 9.36590765940687\n",
      "Iteration 49: x_k0 = [ 149.73316984 -166.53946659], f(x_k0) = 13.56243489630888\n",
      "Iteration 50: x_k0 = [-153.37595267  102.72535731], f(x_k0) = 8.733752404812893\n",
      "Iteration 51: x_k0 = [-59.98970058 205.91192584], f(x_k0) = 12.942833578876725\n",
      "Iteration 52: x_k0 = [-192.66013024 -141.03556272], f(x_k0) = 15.613693558329274\n",
      "Iteration 53: x_k0 = [106.22778535  62.812229  ], f(x_k0) = 4.051224566734694\n",
      "Iteration 54: x_k0 = [-124.85791391   -8.22707969], f(x_k0) = 4.295525386127064\n",
      "Iteration 55: x_k0 = [ 27.8369692  232.32505377], f(x_k0) = 15.239271786530775\n",
      "Iteration 56: x_k0 = [ -3.69271956 -15.92062056], f(x_k0) = 1.2874413389738346\n",
      "Iteration 57: x_k0 = [92.34472707 65.26608221], f(x_k0) = 4.013438890982942\n",
      "Iteration 58: x_k0 = [140.9738745  -25.84184837], f(x_k0) = 6.908216578675594\n",
      "Iteration 59: x_k0 = [  -9.36980243 -191.40900912], f(x_k0) = 9.21589071230415\n",
      "Iteration 60: x_k0 = [-199.15928586  202.46340259], f(x_k0) = 21.2353074618705\n",
      "Iteration 61: x_k0 = [ -30.27028641 -140.66989482], f(x_k0) = 5.975274030962982\n",
      "Iteration 62: x_k0 = [-215.09248258  180.05655697], f(x_k0) = 20.680288350947475\n",
      "Iteration 63: x_k0 = [107.33946735 183.56425721], f(x_k0) = 12.77604124343739\n",
      "Iteration 64: x_k0 = [-133.84072392 -162.16791837], f(x_k0) = 12.052339207877244\n",
      "Iteration 65: x_k0 = [   8.32677865 -117.20196664], f(x_k0) = 4.6194296936613215\n",
      "Iteration 66: x_k0 = [ -99.59477749 -187.70208499], f(x_k0) = 11.86570979504156\n",
      "Iteration 67: x_k0 = [161.26802313  30.19632104], f(x_k0) = 7.328211498275098\n",
      "Iteration 68: x_k0 = [  58.81944875 -192.43052694], f(x_k0) = 10.76371043660914\n",
      "Iteration 69: x_k0 = [137.18409162  -3.74457212], f(x_k0) = 6.149572162170201\n",
      "Iteration 70: x_k0 = [ 146.3110611  -213.76643984], f(x_k0) = 17.986444804879852\n",
      "Iteration 71: x_k0 = [-31.71125528  11.43203803], f(x_k0) = 1.5018925865403308\n",
      "Iteration 72: x_k0 = [97.5112906  10.30633632], f(x_k0) = 3.9362000855310253\n",
      "Iteration 73: x_k0 = [120.2877341  -34.68400381], f(x_k0) = 4.412273687802202\n",
      "Iteration 74: x_k0 = [18.48141443 79.14122306], f(x_k0) = 1.8745968061518434\n",
      "Iteration 75: x_k0 = [-101.76176    157.2893899], f(x_k0) = 9.874360395801014\n",
      "Iteration 76: x_k0 = [  94.87261902 -150.12974551], f(x_k0) = 8.242418384572108\n",
      "Iteration 77: x_k0 = [100.21727811  24.99470107], f(x_k0) = 3.300885877434638\n",
      "Iteration 78: x_k0 = [ 56.79978922 -68.49637218], f(x_k0) = 3.2289182435652464\n",
      "Iteration 79: x_k0 = [-162.28747853 -173.64230436], f(x_k0) = 15.581484732738426\n",
      "Iteration 80: x_k0 = [ 29.23448254 104.76451128], f(x_k0) = 4.100685656881098\n",
      "Iteration 81: x_k0 = [ 90.42056603 178.36886817], f(x_k0) = 11.69066742520446\n",
      "Iteration 82: x_k0 = [ 92.39558719 -81.68155373], f(x_k0) = 4.900520074438225\n",
      "Iteration 83: x_k0 = [ -24.45803785 -183.99798795], f(x_k0) = 9.821554563024497\n",
      "Iteration 84: x_k0 = [-131.02943191 -102.41040982], f(x_k0) = 8.514374663980528\n",
      "Iteration 85: x_k0 = [ -93.10332437 -103.85709903], f(x_k0) = 6.020613830650943\n",
      "Iteration 86: x_k0 = [157.35806317  87.22375422], f(x_k0) = 8.704326469831933\n",
      "Iteration 87: x_k0 = [ 11.87733525 169.1442508 ], f(x_k0) = 7.434884143482908\n",
      "Iteration 88: x_k0 = [26.18755724 42.75633895], f(x_k0) = 1.4417296358439458\n",
      "Iteration 89: x_k0 = [12.34229077 24.14829994], f(x_k0) = 1.3807542954224097\n",
      "Iteration 90: x_k0 = [-159.48682256   42.38973719], f(x_k0) = 7.903672711151654\n",
      "Iteration 91: x_k0 = [-137.59145659  -79.38013708], f(x_k0) = 6.574505661386624\n",
      "Iteration 92: x_k0 = [ -27.21336415 -135.7910593 ], f(x_k0) = 5.69789191055998\n",
      "Iteration 93: x_k0 = [-81.26052198 125.5367509 ], f(x_k0) = 5.95694401243178\n",
      "Iteration 94: x_k0 = [174.61151291   1.85666578], f(x_k0) = 8.559276961003434\n",
      "Iteration 95: x_k0 = [122.98445205 -43.74013238], f(x_k0) = 6.050559515619829\n",
      "Iteration 96: x_k0 = [ 97.57424001 111.02820229], f(x_k0) = 5.4795108686434455\n",
      "Iteration 97: x_k0 = [-145.74644317 -165.46371124], f(x_k0) = 13.394797724909253\n",
      "Iteration 98: x_k0 = [-63.21029816 129.42437668], f(x_k0) = 7.038530946484524\n",
      "Iteration 99: x_k0 = [162.33554529 -18.8600659 ], f(x_k0) = 7.305757286325502\n",
      "Iteration 100: x_k0 = [-31.19544532  13.04956864], f(x_k0) = 2.2427155844926143\n",
      "Iteration 101: x_k0 = [-115.57905883  -59.39934635], f(x_k0) = 4.906900366861507\n",
      "Iteration 102: x_k0 = [61.64859574  0.89653549], f(x_k0) = 1.6458567522965464\n",
      "Iteration 103: x_k0 = [-25.4298366  139.25056715], f(x_k0) = 6.463694924640852\n",
      "Iteration 104: x_k0 = [-24.74877879 119.82883364], f(x_k0) = 5.666195457367094\n",
      "Iteration 105: x_k0 = [ 46.36669312 -95.63587938], f(x_k0) = 3.882490928920291\n",
      "Iteration 106: x_k0 = [-170.26412594  -70.10413916], f(x_k0) = 8.84984814110011\n",
      "Iteration 107: x_k0 = [-129.78379697  -11.10933166], f(x_k0) = 5.240974216395714\n",
      "Iteration 108: x_k0 = [ 140.35693486 -116.96176454], f(x_k0) = 9.619915044376436\n",
      "Iteration 109: x_k0 = [29.66589508 82.81393544], f(x_k0) = 2.8588066628235107\n",
      "Iteration 110: x_k0 = [130.9385695   74.50767699], f(x_k0) = 7.0742278746443334\n",
      "Iteration 111: x_k0 = [-58.22125865  80.58667096], f(x_k0) = 3.5631489696656873\n",
      "Iteration 112: x_k0 = [96.00719609 -1.63929847], f(x_k0) = 3.380039426596842\n",
      "Iteration 113: x_k0 = [-159.26541278   79.83853446], f(x_k0) = 9.50929782210003\n",
      "Iteration 114: x_k0 = [ 80.925756   104.27569499], f(x_k0) = 5.423462435886698\n",
      "Iteration 115: x_k0 = [132.64926476 -99.68408609], f(x_k0) = 7.732630900216058\n",
      "Iteration 116: x_k0 = [ -92.46813648 -108.70390198], f(x_k0) = 6.113196536860215\n",
      "Iteration 117: x_k0 = [  -4.56175032 -117.4136154 ], f(x_k0) = 4.485647179472679\n",
      "Iteration 118: x_k0 = [  4.2261297  -18.68943237], f(x_k0) = 1.464083716617567\n",
      "Iteration 119: x_k0 = [-157.36589359   58.03017327], f(x_k0) = 8.974408805026616\n",
      "Iteration 120: x_k0 = [26.45445225 77.47519171], f(x_k0) = 2.7232401549002985\n",
      "Iteration 121: x_k0 = [-44.7271771   -4.59612224], f(x_k0) = 2.236268822521281\n",
      "Iteration 122: x_k0 = [-26.68911293  91.86049465], f(x_k0) = 3.29523519113199\n",
      "Iteration 123: x_k0 = [114.46616578  85.33475247], f(x_k0) = 6.25575850766017\n",
      "Iteration 124: x_k0 = [-95.33530076  26.63418102], f(x_k0) = 2.984930116149541\n",
      "Iteration 125: x_k0 = [   3.35536267 -135.24997443], f(x_k0) = 5.753216783291323\n",
      "Iteration 126: x_k0 = [-77.56698586  37.44489224], f(x_k0) = 2.9808387097348303\n",
      "Iteration 127: x_k0 = [-138.69917068 -133.36185466], f(x_k0) = 9.364999120455815\n",
      "Iteration 128: x_k0 = [-121.14938409 -105.63511941], f(x_k0) = 7.609119219933618\n",
      "Iteration 129: x_k0 = [46.3175153   6.10302698], f(x_k0) = 1.2780949155825587\n",
      "Iteration 130: x_k0 = [ 88.43146003 -41.45901318], f(x_k0) = 3.8355448069539597\n",
      "Iteration 131: x_k0 = [ 122.55152623 -105.13694391], f(x_k0) = 8.011023272194038\n",
      "Iteration 132: x_k0 = [-86.60525614 -24.97095039], f(x_k0) = 2.9534718014705854\n",
      "Iteration 133: x_k0 = [120.88288493   3.22884271], f(x_k0) = 4.700467189565582\n",
      "Iteration 134: x_k0 = [-140.3285117     5.26294251], f(x_k0) = 5.508757132069022\n",
      "Iteration 135: x_k0 = [52.08851518  8.24735649], f(x_k0) = 1.9198780860780824\n",
      "Iteration 136: x_k0 = [-108.07420577   90.47264449], f(x_k0) = 5.839194798578501\n",
      "Iteration 137: x_k0 = [119.24069641  58.94582382], f(x_k0) = 6.083975327554941\n",
      "Iteration 138: x_k0 = [-35.17871948  56.28181995], f(x_k0) = 1.692068428903318\n",
      "Iteration 139: x_k0 = [-124.89162443   66.16123698], f(x_k0) = 6.669054089506588\n",
      "Iteration 140: x_k0 = [ -6.68946439 111.96569119], f(x_k0) = 4.886497957115147\n",
      "Iteration 141: x_k0 = [-125.51241721  -78.25720452], f(x_k0) = 6.1226857219143715\n",
      "Iteration 142: x_k0 = [ -35.94465195 -115.50575843], f(x_k0) = 4.841028434379792\n",
      "Iteration 143: x_k0 = [35.20432385 22.80200702], f(x_k0) = 0.7097017129690972\n",
      "Iteration 144: x_k0 = [ -29.28658493 -116.89690839], f(x_k0) = 4.927080273958577\n",
      "Iteration 145: x_k0 = [ 32.34487379 -50.25110158], f(x_k0) = 2.2286136396252756\n",
      "Iteration 146: x_k0 = [ -99.50385952 -114.97240702], f(x_k0) = 6.300223213741962\n",
      "Iteration 147: x_k0 = [-29.40407272 -58.14778655], f(x_k0) = 1.6507006105558368\n",
      "Iteration 148: x_k0 = [-56.90181499 -12.19200833], f(x_k0) = 2.4978149783114816\n",
      "Iteration 149: x_k0 = [-128.24475985  -59.80349747], f(x_k0) = 5.901003510691989\n",
      "Iteration 150: x_k0 = [-119.47870617  107.2229312 ], f(x_k0) = 6.534222627652597\n",
      "Iteration 151: x_k0 = [  7.63259667 -46.813746  ], f(x_k0) = 1.5877716779092914\n",
      "Iteration 152: x_k0 = [  74.09360444 -115.54930088], f(x_k0) = 5.447408275863722\n",
      "Iteration 153: x_k0 = [-48.14800552  66.69130205], f(x_k0) = 2.171935688744383\n",
      "Iteration 154: x_k0 = [-94.69466291 -79.07992306], f(x_k0) = 4.07688205863534\n",
      "Iteration 155: x_k0 = [-106.97149425    4.82019551], f(x_k0) = 4.81923714771459\n",
      "Iteration 156: x_k0 = [ 56.21067544 -58.20606596], f(x_k0) = 3.533254003105844\n",
      "Iteration 157: x_k0 = [ 47.48083177 -33.33798334], f(x_k0) = 1.8523023639922456\n",
      "Iteration 158: x_k0 = [-45.45941898  94.81318289], f(x_k0) = 3.8089671663805658\n",
      "Iteration 159: x_k0 = [-8.09153295 77.86916969], f(x_k0) = 2.5520015060669454\n",
      "Iteration 160: x_k0 = [10.02495437 24.29061298], f(x_k0) = 1.0880285644074816\n",
      "Iteration 161: x_k0 = [-21.29896118 -58.42390858], f(x_k0) = 1.2808062157431148\n",
      "Iteration 162: x_k0 = [-81.83763973  40.0505771 ], f(x_k0) = 4.062151399085731\n",
      "Iteration 163: x_k0 = [43.19307992 85.82838664], f(x_k0) = 3.6888806811777193\n",
      "Iteration 164: x_k0 = [-3.99876262 34.47601028], f(x_k0) = 1.7780730260532642\n",
      "Iteration 165: x_k0 = [-71.82025617  72.61323251], f(x_k0) = 4.035006327479573\n",
      "Iteration 166: x_k0 = [ 6.08944226 80.77894574], f(x_k0) = 1.814786781523058\n",
      "Iteration 167: x_k0 = [-59.24295357 101.26904518], f(x_k0) = 3.722763600971671\n",
      "Iteration 168: x_k0 = [53.81347885 47.62468906], f(x_k0) = 1.7070063247667384\n",
      "Iteration 169: x_k0 = [-43.91614081 -11.37647761], f(x_k0) = 1.7033533746983396\n",
      "Iteration 170: x_k0 = [ 18.8237288  -42.15215236], f(x_k0) = 1.5718186583323184\n",
      "Iteration 171: x_k0 = [15.82970404 43.86652382], f(x_k0) = 2.458878024235627\n",
      "Iteration 172: x_k0 = [-37.27085635  -5.06394631], f(x_k0) = 2.1770609717216907\n",
      "Iteration 173: x_k0 = [-95.99313207 -76.62565385], f(x_k0) = 4.647522828507963\n",
      "Iteration 174: x_k0 = [-62.41200714  -9.11686685], f(x_k0) = 1.0936074380423964\n",
      "Iteration 175: x_k0 = [-73.39283962  94.24561353], f(x_k0) = 4.236715924873554\n",
      "Iteration 176: x_k0 = [-43.29360718 -44.85829482], f(x_k0) = 1.2348994542653542\n",
      "Iteration 177: x_k0 = [-91.65640273  40.81090277], f(x_k0) = 2.8051564937513307\n",
      "Iteration 178: x_k0 = [54.60368785 10.41414987], f(x_k0) = 1.9445452302449717\n",
      "Iteration 179: x_k0 = [-70.91468155  20.60976709], f(x_k0) = 2.2675804725073405\n",
      "Iteration 180: x_k0 = [60.26903639 42.0927971 ], f(x_k0) = 2.2832831320322002\n",
      "Iteration 181: x_k0 = [ 56.0628822  -58.44212254], f(x_k0) = 3.4223215094853052\n",
      "Iteration 182: x_k0 = [16.54435166 53.01892212], f(x_k0) = 2.4267350001224983\n",
      "Iteration 183: x_k0 = [ 42.89140703 -82.9023478 ], f(x_k0) = 3.400012924189072\n",
      "Iteration 184: x_k0 = [ 9.82749451 64.3294812 ], f(x_k0) = 2.1187313860579478\n",
      "Iteration 185: x_k0 = [-67.09096485  43.24669711], f(x_k0) = 2.8864965441804666\n",
      "Iteration 186: x_k0 = [-98.13521033  81.32724093], f(x_k0) = 5.483398242344624\n",
      "Iteration 187: x_k0 = [-76.2166896  -32.02327353], f(x_k0) = 3.2514869238782156\n",
      "Iteration 188: x_k0 = [-51.84954132 -63.02663406], f(x_k0) = 2.676245085632451\n",
      "Iteration 189: x_k0 = [-43.81265242  35.66397488], f(x_k0) = 0.8158223239145729\n",
      "Iteration 190: x_k0 = [17.44058878 36.55403576], f(x_k0) = 1.28841522925789\n",
      "Iteration 191: x_k0 = [49.89636287  7.09978073], f(x_k0) = 1.3523552311412521\n",
      "Iteration 192: x_k0 = [ 3.53573754 57.76232715], f(x_k0) = 0.9139271141433928\n",
      "Iteration 193: x_k0 = [-37.51246942  65.22239261], f(x_k0) = 2.942318382920074\n",
      "Iteration 194: x_k0 = [-5.20484366 15.28554334], f(x_k0) = 1.1531112071774197\n",
      "Iteration 195: x_k0 = [ 54.40852953 -52.58397697], f(x_k0) = 2.9000641163541943\n",
      "Iteration 196: x_k0 = [-10.87819897   2.63093787], f(x_k0) = 0.9978771810851685\n",
      "Iteration 197: x_k0 = [-82.03052691  61.90639493], f(x_k0) = 2.720905232372825\n",
      "Iteration 198: x_k0 = [-20.66685414  55.85925486], f(x_k0) = 1.8315589268262316\n",
      "Iteration 199: x_k0 = [ 7.97247963 -2.19157231], f(x_k0) = 1.0195875752938894\n",
      "Iteration 200: x_k0 = [23.77889126  9.14042437], f(x_k0) = 0.9504775405669474\n",
      "Iteration 201: x_k0 = [34.71031397  0.51768066], f(x_k0) = 2.2241364039432634\n",
      "Iteration 202: x_k0 = [-79.70606319   5.15429562], f(x_k0) = 2.250061403166013\n",
      "Iteration 203: x_k0 = [25.24936825 -1.06172598], f(x_k0) = 0.43345655175265463\n",
      "Iteration 204: x_k0 = [-17.019045    15.83236909], f(x_k0) = 1.185996812050792\n",
      "Iteration 205: x_k0 = [24.28297524 76.85921883], f(x_k0) = 3.013284648174105\n",
      "Iteration 206: x_k0 = [-14.18276124  47.19489319], f(x_k0) = 1.5900052584078381\n",
      "Iteration 207: x_k0 = [-44.32927555  46.71198673], f(x_k0) = 2.0777995595478993\n",
      "Iteration 208: x_k0 = [ 44.92225152 -68.74943283], f(x_k0) = 2.7341384612665025\n",
      "Iteration 209: x_k0 = [47.33419399 73.19509212], f(x_k0) = 2.9772103687687768\n",
      "Iteration 210: x_k0 = [35.89635169 47.51577835], f(x_k0) = 1.7545005121052606\n",
      "Iteration 211: x_k0 = [ 18.30927845 -44.26300068], f(x_k0) = 0.7219335713903029\n",
      "Iteration 212: x_k0 = [ 50.90010954 -51.05377064], f(x_k0) = 2.3217501308643174\n",
      "Iteration 213: x_k0 = [40.31415636 47.39571226], f(x_k0) = 1.5329989365188879\n",
      "Iteration 214: x_k0 = [-3.55727329 -7.26829027], f(x_k0) = 1.3953018757478661\n",
      "Iteration 215: x_k0 = [-38.84908336 -71.95530675], f(x_k0) = 2.3379478567702665\n",
      "Iteration 216: x_k0 = [32.12473079 45.93005085], f(x_k0) = 1.4152788561116767\n",
      "Iteration 217: x_k0 = [-50.98548664 -62.84139062], f(x_k0) = 1.9612562559334996\n",
      "Iteration 218: x_k0 = [-18.17179436 -68.13732066], f(x_k0) = 2.626443157288238\n",
      "Iteration 219: x_k0 = [-22.38304619  49.0169613 ], f(x_k0) = 0.8066000354120175\n",
      "Iteration 220: x_k0 = [35.59305936 34.26318051], f(x_k0) = 1.925259824408348\n",
      "Iteration 221: x_k0 = [-46.16186547 -33.33699921], f(x_k0) = 1.8167862247573061\n",
      "Iteration 222: x_k0 = [ 16.48818577 -11.28569531], f(x_k0) = 1.010340077069192\n",
      "Iteration 223: x_k0 = [57.23594361 -2.49881556], f(x_k0) = 1.971185604101104\n",
      "Iteration 224: x_k0 = [-34.14629065 -10.2413028 ], f(x_k0) = 1.8445379686500465\n",
      "Iteration 225: x_k0 = [21.82463569 10.263536  ], f(x_k0) = 1.6994479771207347\n",
      "Iteration 226: x_k0 = [-27.5235231  -21.26142761], f(x_k0) = 0.7310764002159456\n",
      "Iteration 227: x_k0 = [30.27998684 45.02851466], f(x_k0) = 1.3521421253127934\n",
      "Iteration 228: x_k0 = [11.60387329  9.45207701], f(x_k0) = 0.5297354735328927\n",
      "Iteration 229: x_k0 = [ 32.172755   -44.62325801], f(x_k0) = 1.0364229779585825\n",
      "Iteration 230: x_k0 = [-36.08349579  32.62997266], f(x_k0) = 1.5706339607495408\n",
      "Iteration 231: x_k0 = [-31.61262275 -58.46982459], f(x_k0) = 2.9634323241217926\n",
      "Iteration 232: x_k0 = [-46.28167281 -10.4888952 ], f(x_k0) = 1.8449172878504951\n",
      "Iteration 233: x_k0 = [-51.73315364  20.5351236 ], f(x_k0) = 1.813006910151318\n",
      "Iteration 234: x_k0 = [-38.71994457 -57.48235757], f(x_k0) = 2.7136610968149433\n",
      "Iteration 235: x_k0 = [-28.75203036 -34.80842127], f(x_k0) = 2.2804821714648664\n",
      "Iteration 236: x_k0 = [ 11.59545526 -45.72388512], f(x_k0) = 1.2123607142944408\n",
      "Iteration 237: x_k0 = [16.2042759  50.81834248], f(x_k0) = 1.5414689501083885\n",
      "Iteration 238: x_k0 = [-11.81193538  34.90026584], f(x_k0) = 0.6847105796801863\n",
      "Iteration 239: x_k0 = [-12.11150993  50.35250728], f(x_k0) = 2.11976836399419\n",
      "Iteration 240: x_k0 = [-50.61822897 -10.68322677], f(x_k0) = 1.3919395684523326\n",
      "Iteration 241: x_k0 = [-33.16374686   4.79639985], f(x_k0) = 1.1100824497841209\n",
      "Iteration 242: x_k0 = [-36.23160184   7.08956494], f(x_k0) = 1.3102107687491769\n",
      "Iteration 243: x_k0 = [-34.99418436 -33.99198819], f(x_k0) = 2.0086475240895973\n",
      "Iteration 244: x_k0 = [-38.78170106  -3.15128163], f(x_k0) = 1.665137392225809\n",
      "Iteration 245: x_k0 = [ 29.98533998 -17.12852435], f(x_k0) = 1.1725740543491314\n",
      "Iteration 246: x_k0 = [-31.03790573 -22.88872103], f(x_k0) = 2.197547985805728\n",
      "Iteration 247: x_k0 = [-28.35938293 -22.63784333], f(x_k0) = 0.37712442687371905\n",
      "Iteration 248: x_k0 = [1.51751612 9.86790837], f(x_k0) = 0.9839991717620222\n",
      "Iteration 249: x_k0 = [11.57793066 45.63735509], f(x_k0) = 1.1931043678919167\n",
      "Iteration 250: x_k0 = [-10.36555017  27.88400153], f(x_k0) = 1.6023140366597604\n",
      "Iteration 251: x_k0 = [25.1889803  31.15192268], f(x_k0) = 2.3989825750926217\n",
      "Iteration 252: x_k0 = [ 8.82549778 18.97732274], f(x_k0) = 1.6528536690313789\n",
      "Iteration 253: x_k0 = [ 41.79953698 -20.07814679], f(x_k0) = 1.503005374911021\n",
      "Iteration 254: x_k0 = [  2.01424309 -33.34200209], f(x_k0) = 1.2851194184264823\n",
      "Iteration 255: x_k0 = [ 31.70883941 -41.75676382], f(x_k0) = 1.9872007983135274\n",
      "Iteration 256: x_k0 = [-21.30999963  28.66374835], f(x_k0) = 1.4365750823628751\n",
      "Iteration 257: x_k0 = [-16.77990169  41.79671165], f(x_k0) = 1.3701467589916578\n",
      "Iteration 258: x_k0 = [-42.22893857  27.56707626], f(x_k0) = 1.7810673515314162\n",
      "Iteration 259: x_k0 = [-22.50561593  18.8576933 ], f(x_k0) = 1.841700846664835\n",
      "Iteration 260: x_k0 = [-14.80142332   2.96890955], f(x_k0) = 0.7461031196678293\n",
      "Iteration 261: x_k0 = [-23.79550227  37.40555168], f(x_k0) = 1.4332353765364974\n",
      "Iteration 262: x_k0 = [-8.20031054 31.11959711], f(x_k0) = 0.9195036215401884\n",
      "Iteration 263: x_k0 = [-46.49406456 -10.52717901], f(x_k0) = 1.8903634367972477\n",
      "Iteration 264: x_k0 = [14.5456834  12.48978641], f(x_k0) = 0.7625043661646755\n",
      "Iteration 265: x_k0 = [-37.66923707 -29.02467826], f(x_k0) = 1.6683163909818668\n",
      "Iteration 266: x_k0 = [-40.02851891  32.84451423], f(x_k0) = 1.442559661540472\n",
      "Iteration 267: x_k0 = [-38.73178272  15.03772579], f(x_k0) = 1.6132222443878859\n",
      "Iteration 268: x_k0 = [27.54386628 -8.18226479], f(x_k0) = 1.8609901948075565\n",
      "Iteration 269: x_k0 = [ -3.2328678  -34.03119925], f(x_k0) = 1.7710992311262233\n",
      "Iteration 270: x_k0 = [-30.32023    -27.36848613], f(x_k0) = 1.0162920930618062\n",
      "Iteration 271: x_k0 = [31.57405433 17.99254791], f(x_k0) = 0.35467449328129064\n",
      "Iteration 272: x_k0 = [-9.26238717 -8.39620927], f(x_k0) = 1.9673755747890165\n",
      "Iteration 273: x_k0 = [-33.11848469  -7.49712549], f(x_k0) = 1.3612330490369788\n",
      "Iteration 274: x_k0 = [ 0.83783309 17.78498519], f(x_k0) = 0.41020736040643113\n",
      "Iteration 275: x_k0 = [ 9.28222469 -2.62478786], f(x_k0) = 0.7447582790635088\n",
      "Iteration 276: x_k0 = [-38.03862408  18.61145182], f(x_k0) = 0.666881345791033\n",
      "Iteration 277: x_k0 = [  9.50997003 -18.03684578], f(x_k0) = 2.0828324887289424\n",
      "Iteration 278: x_k0 = [ 24.95990962 -35.06171222], f(x_k0) = 0.5344914586502074\n",
      "Iteration 279: x_k0 = [16.27790358  9.13105522], f(x_k0) = 1.9163873571769576\n",
      "Iteration 280: x_k0 = [-32.80724076  20.04369745], f(x_k0) = 1.3759178975594835\n",
      "Iteration 281: x_k0 = [-32.25993721  28.33846975], f(x_k0) = 1.2132262441531911\n",
      "Iteration 282: x_k0 = [1.41170184 7.77381636], f(x_k0) = 0.9036808346936988\n",
      "Iteration 283: x_k0 = [-15.26143257  11.84682166], f(x_k0) = 0.642817773785646\n",
      "Iteration 284: x_k0 = [-4.00319337 11.23599317], f(x_k0) = 0.9763463205084739\n",
      "Iteration 285: x_k0 = [-33.86897769 -26.70566226], f(x_k0) = 2.236797084154377\n",
      "Iteration 286: x_k0 = [-33.89598777 -34.86332389], f(x_k0) = 2.2907463407981536\n",
      "Iteration 287: x_k0 = [-30.12450812 -25.67724329], f(x_k0) = 1.1795527407385826\n",
      "Iteration 288: x_k0 = [-4.00619483  7.72584236], f(x_k0) = 1.4615670760898882\n",
      "Iteration 289: x_k0 = [-25.15197742 -17.4002048 ], f(x_k0) = 0.2682992835542699\n",
      "Iteration 290: x_k0 = [ 9.9951135  15.20923618], f(x_k0) = 0.8818927220725238\n",
      "Iteration 291: x_k0 = [26.8488592   6.96362861], f(x_k0) = 1.2227577989045255\n",
      "Iteration 292: x_k0 = [ 23.7342637  -35.23068435], f(x_k0) = 1.2838278293911618\n",
      "Iteration 293: x_k0 = [-30.55684981  17.80743759], f(x_k0) = 0.6597800912980846\n",
      "Global Minimum:\n",
      "f(x_ast) =  1.1102230246251565e-16\n",
      "x_ast =  [-7.43992107e-09 -1.60009749e-08]\n"
     ]
    }
   ],
   "source": [
    "# setting up the refined global optimizer with multi start\n",
    "def refined_global_optimizer(bounds, tau, K_warmup, K_max):\n",
    "    x_ast = None\n",
    "\n",
    "    for k in range(K_max):\n",
    "        x_k = np.random.uniform(bounds[0], bounds[1], size=2)\n",
    "\n",
    "        if k >= K_warmup:\n",
    "            chi_k = 0.50 * 2 / (1 + np.exp((k - K_warmup) / 100))\n",
    "            x_k0 = chi_k * x_k + (1 - chi_k) * x_ast\n",
    "        else:\n",
    "            x_k0 = x_k\n",
    "\n",
    "        result = minimize(griewank, x_k0, method='BFGS', tol=tau)\n",
    "        x_k_ast = result.x\n",
    "\n",
    "        if x_ast is None or griewank(x_k_ast) < griewank(x_ast):\n",
    "            x_ast = x_k_ast\n",
    "\n",
    "        if griewank(x_ast) < tau:\n",
    "            break\n",
    "\n",
    "        print(f\"Iteration {k}: x_k0 = {x_k0}, f(x_k0) = {griewank(x_k0)}\")\n",
    "\n",
    "    return x_ast\n",
    "\n",
    "# setting the settings\n",
    "bounds = [-600, 600]\n",
    "tau = 1e-8\n",
    "K_warmup = 10\n",
    "K_max = 1000\n",
    "\n",
    "# run optimizer\n",
    "global_optimum = refined_global_optimizer(bounds, tau, K_warmup, K_max)\n",
    "\n",
    "print(\"Global Minimum:\")\n",
    "print(\"f(x_ast) = \", griewank(global_optimum))\n",
    "print(\"x_ast = \", global_optimum)\n"
   ]
  },
  {
   "cell_type": "code",
   "execution_count": 87,
   "metadata": {},
   "outputs": [
    {
     "ename": "NameError",
     "evalue": "name 'x_ast' is not defined",
     "output_type": "error",
     "traceback": [
      "\u001b[0;31m---------------------------------------------------------------------------\u001b[0m",
      "\u001b[0;31mNameError\u001b[0m                                 Traceback (most recent call last)",
      "\u001b[0;32m/var/folders/0c/56rszvtj0h59zgpzcgk_25mh0000gn/T/ipykernel_84724/2012005301.py\u001b[0m in \u001b[0;36m<module>\u001b[0;34m\u001b[0m\n\u001b[1;32m      1\u001b[0m \u001b[0mfig\u001b[0m \u001b[0;34m=\u001b[0m \u001b[0mplt\u001b[0m\u001b[0;34m.\u001b[0m\u001b[0mfigure\u001b[0m\u001b[0;34m(\u001b[0m\u001b[0;34m)\u001b[0m\u001b[0;34m\u001b[0m\u001b[0;34m\u001b[0m\u001b[0m\n\u001b[1;32m      2\u001b[0m \u001b[0max\u001b[0m \u001b[0;34m=\u001b[0m \u001b[0mfig\u001b[0m\u001b[0;34m.\u001b[0m\u001b[0madd_subplot\u001b[0m\u001b[0;34m(\u001b[0m\u001b[0;36m1\u001b[0m\u001b[0;34m,\u001b[0m\u001b[0;36m1\u001b[0m\u001b[0;34m,\u001b[0m\u001b[0;36m1\u001b[0m\u001b[0;34m)\u001b[0m\u001b[0;34m\u001b[0m\u001b[0;34m\u001b[0m\u001b[0m\n\u001b[0;32m----> 3\u001b[0;31m \u001b[0max\u001b[0m\u001b[0;34m.\u001b[0m\u001b[0mscatter\u001b[0m\u001b[0;34m(\u001b[0m\u001b[0mx_ast\u001b[0m\u001b[0;34m[\u001b[0m\u001b[0;34m:\u001b[0m\u001b[0;34m,\u001b[0m\u001b[0;36m0\u001b[0m\u001b[0;34m]\u001b[0m\u001b[0;34m,\u001b[0m\u001b[0mx_ast\u001b[0m\u001b[0;34m[\u001b[0m\u001b[0;34m:\u001b[0m\u001b[0;34m,\u001b[0m\u001b[0;36m1\u001b[0m\u001b[0;34m]\u001b[0m\u001b[0;34m)\u001b[0m\u001b[0;34m\u001b[0m\u001b[0;34m\u001b[0m\u001b[0m\n\u001b[0m\u001b[1;32m      4\u001b[0m \u001b[0max\u001b[0m\u001b[0;34m.\u001b[0m\u001b[0mset_xlabel\u001b[0m\u001b[0;34m(\u001b[0m\u001b[0;34m'$x_1$'\u001b[0m\u001b[0;34m)\u001b[0m\u001b[0;34m\u001b[0m\u001b[0;34m\u001b[0m\u001b[0m\n\u001b[1;32m      5\u001b[0m \u001b[0max\u001b[0m\u001b[0;34m.\u001b[0m\u001b[0mset_ylabel\u001b[0m\u001b[0;34m(\u001b[0m\u001b[0;34m'$x_2$'\u001b[0m\u001b[0;34m)\u001b[0m\u001b[0;34m;\u001b[0m\u001b[0;34m\u001b[0m\u001b[0;34m\u001b[0m\u001b[0m\n",
      "\u001b[0;31mNameError\u001b[0m: name 'x_ast' is not defined"
     ]
    },
    {
     "data": {
      "image/png": "[encoded data removed]",
      "text/plain": [
       "<Figure size 640x480 with 1 Axes>"
      ]
     },
     "metadata": {},
     "output_type": "display_data"
    }
   ],
   "source": []
  },
  {
   "attachments": {},
   "cell_type": "markdown",
   "metadata": {},
   "source": [
    "**Question 2:** Is it a better idea to set $\\underline{K} = 100$? Is the convergence faster?"
   ]
  },
  {
   "cell_type": "code",
   "execution_count": 84,
   "metadata": {},
   "outputs": [
    {
     "name": "stdout",
     "output_type": "stream",
     "text": [
      "Iteration 0: x_k0 = [-249.89527201  408.91917281], f(x_k0) = 58.27846614454551\n",
      "Iteration 1: x_k0 = [ 403.9398453  -425.78817283], f(x_k0) = 87.32697375637657\n",
      "Iteration 2: x_k0 = [ 596.66678324 -139.06434217], f(x_k0) = 95.4078802471516\n",
      "Iteration 3: x_k0 = [280.20776143 379.10080889], f(x_k0) = 56.1348723450284\n",
      "Iteration 4: x_k0 = [  58.08600772 -196.91967057], f(x_k0) = 11.520133959372254\n",
      "Iteration 5: x_k0 = [-61.19650783 -63.37623689], f(x_k0) = 2.983852243446213\n",
      "Iteration 6: x_k0 = [ 207.7330421  -502.19265568], f(x_k0) = 75.75832682759103\n",
      "Iteration 7: x_k0 = [ 305.17392179 -262.26243413], f(x_k0) = 40.57714392606172\n",
      "Iteration 8: x_k0 = [-498.19487556  381.86672872], f(x_k0) = 99.75180133518423\n",
      "Iteration 9: x_k0 = [154.59998153  80.91417685], f(x_k0) = 9.232153799433704\n",
      "Iteration 10: x_k0 = [  50.60155798 -188.93726448], f(x_k0) = 10.640962143592239\n",
      "Iteration 11: x_k0 = [-269.17159618 -240.81737325], f(x_k0) = 33.181078237465556\n",
      "Iteration 12: x_k0 = [-179.03831114  -69.4937107 ], f(x_k0) = 10.651062852707154\n",
      "Iteration 13: x_k0 = [-144.31475273   19.07417715], f(x_k0) = 5.704585848342324\n",
      "Iteration 14: x_k0 = [-89.08657815 132.2100524 ], f(x_k0) = 7.039821168928006\n",
      "Iteration 15: x_k0 = [ 239.28923268 -204.26739967], f(x_k0) = 24.884796003656867\n",
      "Iteration 16: x_k0 = [-109.64504451  243.94669867], f(x_k0) = 17.970979315643305\n",
      "Iteration 17: x_k0 = [ 191.96997136 -207.52714058], f(x_k0) = 20.400680776185563\n",
      "Iteration 18: x_k0 = [  83.37413764 -206.59696557], f(x_k0) = 13.408138066674013\n",
      "Iteration 19: x_k0 = [ 26.56750583 220.34741192], f(x_k0) = 13.2745867928537\n",
      "Iteration 20: x_k0 = [-265.87619873 -112.29082681], f(x_k0) = 21.56435212266552\n",
      "Iteration 21: x_k0 = [  -3.27249948 -187.3114569 ], f(x_k0) = 10.643046411044487\n",
      "Iteration 22: x_k0 = [230.14551861  41.2709474 ], f(x_k0) = 14.243310488600969\n",
      "Iteration 23: x_k0 = [  12.136873   -181.29479182], f(x_k0) = 9.99870781545073\n",
      "Iteration 24: x_k0 = [-72.97390371  -0.82693763], f(x_k0) = 2.959866113229052\n",
      "Iteration 25: x_k0 = [-145.01587644  173.83509655], f(x_k0) = 14.619938885966494\n",
      "Iteration 26: x_k0 = [  80.62281767 -133.32816002], f(x_k0) = 6.579221534946635\n",
      "Iteration 27: x_k0 = [110.042872   161.49711598], f(x_k0) = 11.001009786705882\n",
      "Iteration 28: x_k0 = [-19.88088923 124.83532624], f(x_k0) = 4.505167295967188\n",
      "Iteration 29: x_k0 = [ 145.26235523 -177.14920501], f(x_k0) = 13.446335185029957\n",
      "Iteration 30: x_k0 = [121.53637289 189.89531799], f(x_k0) = 13.327945507124245\n",
      "Iteration 31: x_k0 = [-192.96744311  -91.6576196 ], f(x_k0) = 12.314644414986915\n",
      "Iteration 32: x_k0 = [136.10524004   7.83570918], f(x_k0) = 6.034148381699497\n",
      "Iteration 33: x_k0 = [ 76.72621689 109.38270282], f(x_k0) = 5.551208192358443\n",
      "Iteration 34: x_k0 = [-65.52900073 256.07418409], f(x_k0) = 18.84355699222378\n",
      "Iteration 35: x_k0 = [-179.46953246  -85.62624482], f(x_k0) = 10.28169558845956\n",
      "Iteration 36: x_k0 = [-238.41644548  201.65148669], f(x_k0) = 25.702114644411033\n",
      "Iteration 37: x_k0 = [ 51.07018132 -17.84766913], f(x_k0) = 1.0393519479789326\n",
      "Iteration 38: x_k0 = [-155.4053893  -219.39649543], f(x_k0) = 19.033872128143784\n",
      "Iteration 39: x_k0 = [-58.15364899 -26.94967461], f(x_k0) = 2.0604833770708932\n",
      "Iteration 40: x_k0 = [ 152.57650378 -145.11509672], f(x_k0) = 11.983063598912699\n",
      "Iteration 41: x_k0 = [-148.42906675 -139.12895746], f(x_k0) = 10.95451069913399\n",
      "Iteration 42: x_k0 = [127.74324254  41.05892367], f(x_k0) = 5.147558910785113\n",
      "Iteration 43: x_k0 = [ -31.35936253 -141.50704441], f(x_k0) = 5.361940195369016\n",
      "Iteration 44: x_k0 = [ 65.35989886 156.13934305], f(x_k0) = 7.427152071145034\n",
      "Iteration 45: x_k0 = [186.60787777 199.14677014], f(x_k0) = 19.355424577033403\n",
      "Iteration 46: x_k0 = [249.93590147 228.18128591], f(x_k0) = 29.71018199406604\n",
      "Iteration 47: x_k0 = [ 80.3706711  110.96382914], f(x_k0) = 5.949488220796455\n",
      "Iteration 48: x_k0 = [ -48.85442559 -152.2379321 ], f(x_k0) = 7.2839478411245215\n",
      "Iteration 49: x_k0 = [-50.23768203 -26.82849121], f(x_k0) = 0.8185996062951474\n",
      "Iteration 50: x_k0 = [  42.03353099 -149.56772643], f(x_k0) = 7.216734793184133\n",
      "Iteration 51: x_k0 = [207.11932138 -31.38702368], f(x_k0) = 12.925527364921848\n",
      "Iteration 52: x_k0 = [-147.86907553  176.99494083], f(x_k0) = 15.1512077909926\n",
      "Iteration 53: x_k0 = [118.34751762 126.52929495], f(x_k0) = 8.470335547145265\n",
      "Iteration 54: x_k0 = [-130.45799257 -130.55135972], f(x_k0) = 9.544801720455048\n",
      "Iteration 55: x_k0 = [  -9.8993675  -180.68073718], f(x_k0) = 8.739237571708035\n",
      "Iteration 56: x_k0 = [  29.664488   -181.10345217], f(x_k0) = 9.287643540974281\n",
      "Iteration 57: x_k0 = [181.72763987 196.41658837], f(x_k0) = 18.200723875417243\n",
      "Iteration 58: x_k0 = [-165.49627966   -3.28090949], f(x_k0) = 7.486659781991397\n",
      "Iteration 59: x_k0 = [-181.38666973   26.76194097], f(x_k0) = 8.728147138097814\n",
      "Iteration 60: x_k0 = [246.11713344 -91.97977006], f(x_k0) = 18.542484112877577\n",
      "Iteration 61: x_k0 = [   4.17343983 -159.51420944], f(x_k0) = 7.85528850303488\n",
      "Iteration 62: x_k0 = [154.55516111  50.88327384], f(x_k0) = 7.498511699625223\n",
      "Iteration 63: x_k0 = [-119.1789535   171.47540414], f(x_k0) = 12.191493656783368\n",
      "Iteration 64: x_k0 = [ 40.6042607  135.55597097], f(x_k0) = 5.973012946360858\n",
      "Iteration 65: x_k0 = [-118.35891716  176.50996444], f(x_k0) = 11.947547947892637\n",
      "Iteration 66: x_k0 = [  54.82751069 -203.32773871], f(x_k0) = 12.197792248707666\n",
      "Iteration 67: x_k0 = [ 12.68008925 182.60503113], f(x_k0) = 10.320705690805642\n",
      "Iteration 68: x_k0 = [196.76544778 -44.09732691], f(x_k0) = 11.558274540223943\n",
      "Iteration 69: x_k0 = [ 144.82042488 -171.85556303], f(x_k0) = 14.140327669131645\n",
      "Iteration 70: x_k0 = [ -50.63348195 -134.4599279 ], f(x_k0) = 5.530939312735837\n",
      "Iteration 71: x_k0 = [ 8.83273592 58.07102124], f(x_k0) = 1.0530732676294579\n",
      "Iteration 72: x_k0 = [-140.73153192  175.85548639], f(x_k0) = 13.885474274266299\n",
      "Iteration 73: x_k0 = [177.3954352  133.52451889], f(x_k0) = 13.221599761641878\n",
      "Iteration 74: x_k0 = [134.15781771  42.90993509], f(x_k0) = 6.2445648474368785\n",
      "Iteration 75: x_k0 = [ 76.86043159 -77.53853366], f(x_k0) = 3.9961166795301604\n",
      "Iteration 76: x_k0 = [   2.50404416 -164.4519166 ], f(x_k0) = 6.959973493674646\n",
      "Iteration 77: x_k0 = [107.83639139 135.09303202], f(x_k0) = 8.31890593604383\n",
      "Iteration 78: x_k0 = [ 32.95759549 -63.46498053], f(x_k0) = 2.260266873310016\n",
      "Iteration 79: x_k0 = [198.48505162 -22.7324742 ], f(x_k0) = 10.189576938825562\n",
      "Iteration 80: x_k0 = [175.8512132   32.86300598], f(x_k0) = 9.31857476417514\n",
      "Iteration 81: x_k0 = [156.63147311 -34.06479857], f(x_k0) = 6.971347044793294\n",
      "Iteration 82: x_k0 = [ 20.78803709 110.0051554 ], f(x_k0) = 3.8713960136755197\n",
      "Iteration 83: x_k0 = [  61.4580152  -121.68052313], f(x_k0) = 5.713401622861876\n",
      "Iteration 84: x_k0 = [-148.57714721  -73.09997445], f(x_k0) = 7.9430367397513795\n",
      "Iteration 85: x_k0 = [  66.13885428 -171.24960487], f(x_k0) = 9.287125829611693\n",
      "Iteration 86: x_k0 = [176.66362779  73.70525533], f(x_k0) = 10.366599384209495\n",
      "Iteration 87: x_k0 = [-77.30562082 -15.49258344], f(x_k0) = 2.540618130922148\n",
      "Iteration 88: x_k0 = [127.12131024 -14.65350111], f(x_k0) = 5.16054555565814\n",
      "Iteration 89: x_k0 = [ 176.3374541  -142.87244706], f(x_k0) = 13.069262154818892\n",
      "Iteration 90: x_k0 = [ 102.8413705  -103.11283338], f(x_k0) = 5.767699908012416\n",
      "Iteration 91: x_k0 = [  16.41158318 -146.11881367], f(x_k0) = 5.688985036992879\n",
      "Iteration 92: x_k0 = [-89.3839554   58.34590322], f(x_k0) = 3.9864200348259855\n",
      "Iteration 93: x_k0 = [ 43.24696905 -43.02159823], f(x_k0) = 1.526519392500492\n",
      "Iteration 94: x_k0 = [-105.00922251  139.7128636 ], f(x_k0) = 8.597804260324075\n",
      "Iteration 95: x_k0 = [ 7.04073027 97.88693607], f(x_k0) = 2.6850684646583822\n",
      "Iteration 96: x_k0 = [ -73.07997055 -106.87534697], f(x_k0) = 5.8602597640023255\n",
      "Iteration 97: x_k0 = [-148.62160277 -136.93139806], f(x_k0) = 10.729711238571822\n",
      "Iteration 98: x_k0 = [ 118.00189945 -146.06505767], f(x_k0) = 9.991589722028502\n",
      "Iteration 99: x_k0 = [-69.16832837  65.45814288], f(x_k0) = 3.9352628117571573\n",
      "Global Minimum:\n",
      "f(x_ast) =  0.1085015366314479\n",
      "x_ast =  [18.84013552  8.87688852]\n"
     ]
    }
   ],
   "source": [
    "import numpy as np\n",
    "from scipy.optimize import minimize\n",
    "\n",
    "def griewank(x):\n",
    "    return griewank_(x[0], x[1])\n",
    "\n",
    "def griewank_(x1, x2):\n",
    "    A = x1**2 / 4000 + x2**2 / 4000\n",
    "    B = np.cos(x1 / np.sqrt(1)) * np.cos(x2 / np.sqrt(2))\n",
    "    return A - B + 1\n",
    "\n",
    "def refined_global_optimizer(bounds, tau, K_warmup, K_max):\n",
    "    x_ast = None\n",
    "\n",
    "    for k in range(K_max):\n",
    "        x_k = np.random.uniform(bounds[0], bounds[1], size=2)\n",
    "\n",
    "        if k >= K_warmup:\n",
    "            chi_k = 0.50 * 2 / (1 + np.exp((k - K_warmup) / 100))\n",
    "            x_k0 = chi_k * x_k + (1 - chi_k) * x_ast\n",
    "        else:\n",
    "            x_k0 = x_k\n",
    "\n",
    "        result = minimize(griewank, x_k0, method='BFGS', tol=tau)\n",
    "        x_k_ast = result.x\n",
    "\n",
    "        if x_ast is None or griewank(x_k_ast) < griewank(x_ast):\n",
    "            x_ast = x_k_ast\n",
    "\n",
    "        if griewank(x_ast) < tau:\n",
    "            break\n",
    "\n",
    "        print(f\"Iteration {k}: x_k0 = {x_k0}, f(x_k0) = {griewank(x_k0)}\")\n",
    "\n",
    "    return x_ast\n",
    "\n",
    "# Set the settings\n",
    "bounds = [-600, 600]\n",
    "tau = 1e-8\n",
    "K_warmup = 10\n",
    "K_max = 100  # Set K_max to 100\n",
    "\n",
    "# Run the optimizer\n",
    "global_optimum = refined_global_optimizer(bounds, tau, K_warmup, K_max)\n",
    "\n",
    "print(\"Global Minimum:\")\n",
    "print(\"f(x_ast) = \", griewank(global_optimum))\n",
    "print(\"x_ast = \", global_optimum)\n"
   ]
  },
  {
   "attachments": {},
   "cell_type": "markdown",
   "metadata": {},
   "source": [
    "We now have higher values and the global minimum is not 0 anymore. "
   ]
  }
 ],
 "metadata": {
  "kernelspec": {
   "display_name": "base",
   "language": "python",
   "name": "python3"
  },
  "language_info": {
   "codemirror_mode": {
    "name": "ipython",
    "version": 3
   },
   "file_extension": ".py",
   "mimetype": "text/x-python",
   "name": "python",
   "nbconvert_exporter": "python",
   "pygments_lexer": "ipython3",
   "version": "3.9.13"
  },
  "orig_nbformat": 4,
  "vscode": {
   "interpreter": {
    "hash": "3a51ff870275167439250c661bd9e1549ea6d98969bbf5f9ab16d16cab496595"
   }
  }
 },
 "nbformat": 4,
 "nbformat_minor": 2
}
